{
 "cells": [
  {
   "cell_type": "markdown",
   "id": "8b14efc4",
   "metadata": {},
   "source": [
    "This file is used to create selective datasets for training specific models, whether it is the general model (in which case all training data is grouped by classes here) or smaller fine-tuned models (in which case the data is picked out from the full dataset)."
   ]
  },
  {
   "cell_type": "code",
   "execution_count": 1,
   "id": "6d548a01",
   "metadata": {},
   "outputs": [],
   "source": [
    "from collections import defaultdict, Counter\n",
    "import pickle\n",
    "from random import shuffle\n",
    "import matplotlib.pyplot as plt"
   ]
  },
  {
   "cell_type": "code",
   "execution_count": 2,
   "id": "2bf80202",
   "metadata": {},
   "outputs": [],
   "source": [
    "train = pickle.load(open('small_train_eo.pickle', 'rb'))"
   ]
  },
  {
   "cell_type": "code",
   "execution_count": 3,
   "id": "679179b1",
   "metadata": {},
   "outputs": [
    {
     "data": {
      "text/plain": [
       "[(\"it's → it is\", 'Inappropriate_register'),\n",
       " ('stades → stadiums', 'Formational_affixes'),\n",
       " ('On the first → Firstly,', 'Linking_device'),\n",
       " ('they → students', 'lex_item_choice'),\n",
       " ('are → is', 'Agreement_errors')]"
      ]
     },
     "execution_count": 3,
     "metadata": {},
     "output_type": "execute_result"
    }
   ],
   "source": [
    "train[:5]"
   ]
  },
  {
   "cell_type": "code",
   "execution_count": 4,
   "id": "f9dcf282",
   "metadata": {},
   "outputs": [
    {
     "data": {
      "text/plain": [
       "19"
      ]
     },
     "execution_count": 4,
     "metadata": {},
     "output_type": "execute_result"
    }
   ],
   "source": [
    "tags = set((i[1] for i in train))\n",
    "len(tags)"
   ]
  },
  {
   "cell_type": "code",
   "execution_count": 5,
   "id": "0263655b",
   "metadata": {},
   "outputs": [],
   "source": [
    "lexical_tags = ['lex_item_choice', 'lex_part_choice']\n",
    "discourse_tags = ['Absence_comp_sent', 'Absence_explanation', 'Inappropriate_register', \n",
    "                 'Linking_device', 'Redundant_comp', \n",
    "                 'Ref_device']\n",
    "gram_tags = [\"Verb_pattern\", \"Confusion_of_structures\", \"Voice\",\n",
    "             \"Comparison_degree\", \"Formational_affixes\", \"Prepositions\",\n",
    "             \"Category_confusion\", \"Agreement_errors\", \"Numerals\", \n",
    "             \"Tense_form\", \"Relative_clause\"]"
   ]
  },
  {
   "cell_type": "markdown",
   "id": "513f6936",
   "metadata": {},
   "source": [
    "The following cell is needed when creating data for smaller models -- the tags then should be created from the respective dataset."
   ]
  },
  {
   "cell_type": "code",
   "execution_count": 10,
   "id": "caa59cec",
   "metadata": {},
   "outputs": [],
   "source": [
    "lexical_errors, discourse_errors, gram_errors = [], [], []"
   ]
  },
  {
   "cell_type": "code",
   "execution_count": 8,
   "id": "bb78ef2a",
   "metadata": {},
   "outputs": [],
   "source": [
    "id2label = {n: tag for n, tag in enumerate(gram_tags)}\n",
    "label2id = {tag: n for n, tag in id2label.items()}"
   ]
  },
  {
   "cell_type": "markdown",
   "id": "fb42e020",
   "metadata": {},
   "source": [
    "The following cell is for creating data for smaller models:"
   ]
  },
  {
   "cell_type": "code",
   "execution_count": 34,
   "id": "b0533182",
   "metadata": {},
   "outputs": [],
   "source": [
    "for ex, tag in train:\n",
    "    if tag in gram_tags:\n",
    "        gram_errors.append((ex, label2id[tag]))"
   ]
  },
  {
   "cell_type": "code",
   "execution_count": 15,
   "id": "7040f0de",
   "metadata": {},
   "outputs": [],
   "source": [
    "shuffle(gram_errors)"
   ]
  },
  {
   "cell_type": "code",
   "execution_count": 16,
   "id": "dc7fd955",
   "metadata": {},
   "outputs": [],
   "source": [
    "pickle.dump(gram_errors, open('split_train_gram_eo.pickle', 'wb'))"
   ]
  },
  {
   "cell_type": "code",
   "execution_count": 38,
   "id": "179dca43",
   "metadata": {},
   "outputs": [],
   "source": [
    "# data = pickle.load(open('split_train_gram_eo.pickle', 'rb'))"
   ]
  },
  {
   "cell_type": "markdown",
   "id": "3fd3250a",
   "metadata": {},
   "source": [
    "The following cell is for creating data for the general model:"
   ]
  },
  {
   "cell_type": "code",
   "execution_count": 11,
   "id": "81834090",
   "metadata": {},
   "outputs": [],
   "source": [
    "for ex, tag in train:\n",
    "    if tag in lexical_tags:\n",
    "        lexical_errors.append(ex)\n",
    "    elif tag in discourse_tags:\n",
    "        discourse_errors.append(ex)\n",
    "    else:\n",
    "        gram_errors.append(ex)"
   ]
  },
  {
   "cell_type": "code",
   "execution_count": 13,
   "id": "cff5c6b1",
   "metadata": {},
   "outputs": [
    {
     "data": {
      "text/plain": [
       "(20767, 10388, 14377)"
      ]
     },
     "execution_count": 13,
     "metadata": {},
     "output_type": "execute_result"
    }
   ],
   "source": [
    "len(gram_errors), len(discourse_errors), len(lexical_errors)"
   ]
  },
  {
   "cell_type": "code",
   "execution_count": 36,
   "id": "8bbd77af",
   "metadata": {},
   "outputs": [
    {
     "data": {
      "text/plain": [
       "(('they → students', 0), ('import → importation', 2))"
      ]
     },
     "execution_count": 36,
     "metadata": {},
     "output_type": "execute_result"
    }
   ],
   "source": [
    "train = [(er, 0) for er in lexical_errors]\n",
    "train.extend((er, 1) for er in discourse_errors)\n",
    "train.extend((er, 2) for er in gram_errors)\n",
    "train[0], train[-1]"
   ]
  },
  {
   "cell_type": "code",
   "execution_count": 37,
   "id": "288a830a",
   "metadata": {},
   "outputs": [
    {
     "data": {
      "text/plain": [
       "45532"
      ]
     },
     "execution_count": 37,
     "metadata": {},
     "output_type": "execute_result"
    }
   ],
   "source": [
    "len(train)"
   ]
  },
  {
   "cell_type": "code",
   "execution_count": 38,
   "id": "26943848",
   "metadata": {},
   "outputs": [],
   "source": [
    "shuffle(train)"
   ]
  },
  {
   "cell_type": "code",
   "execution_count": 40,
   "id": "e788a0ce",
   "metadata": {},
   "outputs": [],
   "source": [
    "pickle.dump(train, open('split_train_eo.pickle', 'wb'))"
   ]
  },
  {
   "cell_type": "code",
   "execution_count": null,
   "id": "aaacc13a",
   "metadata": {},
   "outputs": [],
   "source": []
  }
 ],
 "metadata": {
  "kernelspec": {
   "display_name": "Python 3 (ipykernel)",
   "language": "python",
   "name": "python3"
  },
  "language_info": {
   "codemirror_mode": {
    "name": "ipython",
    "version": 3
   },
   "file_extension": ".py",
   "mimetype": "text/x-python",
   "name": "python",
   "nbconvert_exporter": "python",
   "pygments_lexer": "ipython3",
   "version": "3.8.10"
  }
 },
 "nbformat": 4,
 "nbformat_minor": 5
}
