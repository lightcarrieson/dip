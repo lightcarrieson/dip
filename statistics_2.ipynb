{
 "cells": [
  {
   "cell_type": "markdown",
   "id": "e222c6f8",
   "metadata": {},
   "source": [
    "This file (along with statistics_1) is used to evaluate the model's performance. This file is concerned with statistics for individual models rather than pipeline as a whole."
   ]
  },
  {
   "cell_type": "code",
   "execution_count": 2,
   "id": "ec400d48",
   "metadata": {},
   "outputs": [],
   "source": [
    "from datasets import Dataset\n",
    "from transformers import (TextClassificationPipeline, BertTokenizer, BertForSequenceClassification,\n",
    "                          RobertaTokenizerFast, RobertaForSequenceClassification)\n",
    "import pickle\n",
    "import pandas as pd\n",
    "from collections import defaultdict\n",
    "from tqdm.auto import tqdm\n",
    "import matplotlib.pyplot as plt\n",
    "from statistics import mean"
   ]
  },
  {
   "cell_type": "markdown",
   "id": "c712ef3a",
   "metadata": {},
   "source": [
    "# 3 CLASSES"
   ]
  },
  {
   "cell_type": "code",
   "execution_count": 4,
   "id": "7bbb0b46",
   "metadata": {},
   "outputs": [],
   "source": [
    "path_to_model = ..."
   ]
  },
  {
   "cell_type": "code",
   "execution_count": 5,
   "id": "ef6fc7ee",
   "metadata": {},
   "outputs": [
    {
     "data": {
      "application/vnd.jupyter.widget-view+json": {
       "model_id": "e296c714487943308cac408085bdcec6",
       "version_major": 2,
       "version_minor": 0
      },
      "text/plain": [
       "Downloading (…)olve/main/vocab.json:   0%|          | 0.00/899k [00:00<?, ?B/s]"
      ]
     },
     "metadata": {},
     "output_type": "display_data"
    },
    {
     "name": "stderr",
     "output_type": "stream",
     "text": [
      "c:\\users\\katya\\appdata\\local\\programs\\python\\python38\\lib\\site-packages\\huggingface_hub\\file_download.py:129: UserWarning: `huggingface_hub` cache-system uses symlinks by default to efficiently store duplicated files but your machine does not support them in C:\\Users\\Katya\\.cache\\huggingface\\hub. Caching files will still work but in a degraded version that might require more space on your disk. This warning can be disabled by setting the `HF_HUB_DISABLE_SYMLINKS_WARNING` environment variable. For more details, see https://huggingface.co/docs/huggingface_hub/how-to-cache#limitations.\n",
      "To support symlinks on Windows, you either need to activate Developer Mode or to run Python as an administrator. In order to see activate developer mode, see this article: https://docs.microsoft.com/en-us/windows/apps/get-started/enable-your-device-for-development\n",
      "  warnings.warn(message)\n"
     ]
    },
    {
     "data": {
      "application/vnd.jupyter.widget-view+json": {
       "model_id": "bc99b73188e84b4480d9546a9da9923e",
       "version_major": 2,
       "version_minor": 0
      },
      "text/plain": [
       "Downloading (…)olve/main/merges.txt:   0%|          | 0.00/456k [00:00<?, ?B/s]"
      ]
     },
     "metadata": {},
     "output_type": "display_data"
    },
    {
     "data": {
      "application/vnd.jupyter.widget-view+json": {
       "model_id": "771e6630cc8743d2a6916b36ba8d6f38",
       "version_major": 2,
       "version_minor": 0
      },
      "text/plain": [
       "Downloading (…)/main/tokenizer.json:   0%|          | 0.00/1.36M [00:00<?, ?B/s]"
      ]
     },
     "metadata": {},
     "output_type": "display_data"
    },
    {
     "data": {
      "application/vnd.jupyter.widget-view+json": {
       "model_id": "a3429662e2c6450cb5b0487682934271",
       "version_major": 2,
       "version_minor": 0
      },
      "text/plain": [
       "Downloading (…)lve/main/config.json:   0%|          | 0.00/481 [00:00<?, ?B/s]"
      ]
     },
     "metadata": {},
     "output_type": "display_data"
    }
   ],
   "source": [
    "tokenizer = RobertaTokenizerFast.from_pretrained('roberta-base')"
   ]
  },
  {
   "cell_type": "code",
   "execution_count": 11,
   "id": "966582f2",
   "metadata": {},
   "outputs": [],
   "source": [
    "train = pickle.load(open('split_train_eo.pickle', 'rb'))\n",
    "data = pd.DataFrame(train, columns=['text', 'tag'])\n",
    "tags = set(data['tag'].tolist())\n",
    "id2label = {0: 'lexical', 1: 'discourse', 2: 'gram'}\n",
    "label2id = {n : tag for tag, n in id2label.items()}"
   ]
  },
  {
   "cell_type": "code",
   "execution_count": 12,
   "id": "08e38795",
   "metadata": {},
   "outputs": [
    {
     "data": {
      "text/plain": [
       "[('of → from', 2),\n",
       " ('the futures (2050) → 2050', 1),\n",
       " ('analyze → analysis', 2),\n",
       " ('this → these', 1),\n",
       " ('This → These', 2)]"
      ]
     },
     "execution_count": 12,
     "metadata": {},
     "output_type": "execute_result"
    }
   ],
   "source": [
    "train[:5]"
   ]
  },
  {
   "cell_type": "code",
   "execution_count": 13,
   "id": "cad14df2",
   "metadata": {
    "scrolled": true
   },
   "outputs": [
    {
     "data": {
      "text/plain": [
       "{0: 'lexical', 1: 'discourse', 2: 'gram'}"
      ]
     },
     "execution_count": 13,
     "metadata": {},
     "output_type": "execute_result"
    }
   ],
   "source": [
    "id2label"
   ]
  },
  {
   "cell_type": "code",
   "execution_count": 10,
   "id": "bb904382",
   "metadata": {},
   "outputs": [],
   "source": [
    "prediction = TextClassificationPipeline(\n",
    "    model=RobertaForSequenceClassification.from_pretrained(path_to_model, num_labels=len(id2label), id2label=id2label, label2id=label2id),\n",
    "    tokenizer=tokenizer,\n",
    ")"
   ]
  },
  {
   "cell_type": "code",
   "execution_count": 12,
   "id": "38908aaa",
   "metadata": {},
   "outputs": [
    {
     "data": {
      "text/plain": [
       "[{'label': 'lexical', 'score': 0.8990375399589539}]"
      ]
     },
     "execution_count": 12,
     "metadata": {},
     "output_type": "execute_result"
    }
   ],
   "source": [
    "prediction(\"war → conflict\")"
   ]
  },
  {
   "cell_type": "code",
   "execution_count": 14,
   "id": "caac3204",
   "metadata": {},
   "outputs": [
    {
     "data": {
      "text/html": [
       "<div>\n",
       "<style scoped>\n",
       "    .dataframe tbody tr th:only-of-type {\n",
       "        vertical-align: middle;\n",
       "    }\n",
       "\n",
       "    .dataframe tbody tr th {\n",
       "        vertical-align: top;\n",
       "    }\n",
       "\n",
       "    .dataframe thead th {\n",
       "        text-align: right;\n",
       "    }\n",
       "</style>\n",
       "<table border=\"1\" class=\"dataframe\">\n",
       "  <thead>\n",
       "    <tr style=\"text-align: right;\">\n",
       "      <th></th>\n",
       "      <th>text</th>\n",
       "      <th>label</th>\n",
       "      <th>tag</th>\n",
       "    </tr>\n",
       "  </thead>\n",
       "  <tbody>\n",
       "    <tr>\n",
       "      <th>0</th>\n",
       "      <td>of → from</td>\n",
       "      <td>2</td>\n",
       "      <td>gram</td>\n",
       "    </tr>\n",
       "    <tr>\n",
       "      <th>1</th>\n",
       "      <td>the futures (2050) → 2050</td>\n",
       "      <td>1</td>\n",
       "      <td>discourse</td>\n",
       "    </tr>\n",
       "    <tr>\n",
       "      <th>2</th>\n",
       "      <td>analyze → analysis</td>\n",
       "      <td>2</td>\n",
       "      <td>gram</td>\n",
       "    </tr>\n",
       "    <tr>\n",
       "      <th>3</th>\n",
       "      <td>this → these</td>\n",
       "      <td>1</td>\n",
       "      <td>discourse</td>\n",
       "    </tr>\n",
       "    <tr>\n",
       "      <th>4</th>\n",
       "      <td>This → These</td>\n",
       "      <td>2</td>\n",
       "      <td>gram</td>\n",
       "    </tr>\n",
       "    <tr>\n",
       "      <th>...</th>\n",
       "      <td>...</td>\n",
       "      <td>...</td>\n",
       "      <td>...</td>\n",
       "    </tr>\n",
       "    <tr>\n",
       "      <th>45527</th>\n",
       "      <td>USA → American</td>\n",
       "      <td>2</td>\n",
       "      <td>gram</td>\n",
       "    </tr>\n",
       "    <tr>\n",
       "      <th>45528</th>\n",
       "      <td>for → in</td>\n",
       "      <td>2</td>\n",
       "      <td>gram</td>\n",
       "    </tr>\n",
       "    <tr>\n",
       "      <th>45529</th>\n",
       "      <td>, who → who</td>\n",
       "      <td>2</td>\n",
       "      <td>gram</td>\n",
       "    </tr>\n",
       "    <tr>\n",
       "      <th>45530</th>\n",
       "      <td>of → aged</td>\n",
       "      <td>0</td>\n",
       "      <td>lexical</td>\n",
       "    </tr>\n",
       "    <tr>\n",
       "      <th>45531</th>\n",
       "      <td>its' → their</td>\n",
       "      <td>2</td>\n",
       "      <td>gram</td>\n",
       "    </tr>\n",
       "  </tbody>\n",
       "</table>\n",
       "<p>45532 rows × 3 columns</p>\n",
       "</div>"
      ],
      "text/plain": [
       "                            text  label        tag\n",
       "0                      of → from      2       gram\n",
       "1      the futures (2050) → 2050      1  discourse\n",
       "2             analyze → analysis      2       gram\n",
       "3                   this → these      1  discourse\n",
       "4                   This → These      2       gram\n",
       "...                          ...    ...        ...\n",
       "45527             USA → American      2       gram\n",
       "45528                   for → in      2       gram\n",
       "45529                , who → who      2       gram\n",
       "45530                  of → aged      0    lexical\n",
       "45531               its' → their      2       gram\n",
       "\n",
       "[45532 rows x 3 columns]"
      ]
     },
     "execution_count": 14,
     "metadata": {},
     "output_type": "execute_result"
    }
   ],
   "source": [
    "data = pd.DataFrame(train, columns=['text', 'label'])\n",
    "data['tag'] = data.apply(lambda x: id2label[x['label']], axis=1)\n",
    "data"
   ]
  },
  {
   "cell_type": "code",
   "execution_count": 15,
   "id": "8d2189e6",
   "metadata": {},
   "outputs": [
    {
     "data": {
      "text/plain": [
       "(36425, 9107)"
      ]
     },
     "execution_count": 15,
     "metadata": {},
     "output_type": "execute_result"
    }
   ],
   "source": [
    "dataset = Dataset.from_pandas(data[['text', 'label', 'tag']])\n",
    "dataset = dataset.train_test_split(test_size=0.2, seed=42)\n",
    "len(dataset['train']), len(dataset['test'])\n",
    "df = dataset['test'].to_pandas()\n",
    "# df"
   ]
  },
  {
   "cell_type": "code",
   "execution_count": 30,
   "id": "70e214e7",
   "metadata": {},
   "outputs": [],
   "source": [
    "errors = dict()\n",
    "\n",
    "for i in id2label.keys():\n",
    "    sents = df.loc[df['label'] == i]['text'].tolist()\n",
    "    errors[id2label[i]] = sents\n",
    "    "
   ]
  },
  {
   "cell_type": "markdown",
   "id": "0982e344",
   "metadata": {},
   "source": [
    "In the following function, the 'certain' threshold for final predictions is set at 0.85 -- this is an artifact of the earlier evaluations and is not used further."
   ]
  },
  {
   "cell_type": "code",
   "execution_count": 49,
   "id": "f5db1fcb",
   "metadata": {},
   "outputs": [
    {
     "data": {
      "application/vnd.jupyter.widget-view+json": {
       "model_id": "07d9b363a2804cc9b9f76fa53907d818",
       "version_major": 2,
       "version_minor": 0
      },
      "text/plain": [
       "  0%|          | 0/3 [00:00<?, ?it/s]"
      ]
     },
     "metadata": {},
     "output_type": "display_data"
    },
    {
     "data": {
      "application/vnd.jupyter.widget-view+json": {
       "model_id": "7c27d9b61c8f43d2ac5637a96a0980e9",
       "version_major": 2,
       "version_minor": 0
      },
      "text/plain": [
       "  0%|          | 0/2890 [00:00<?, ?it/s]"
      ]
     },
     "metadata": {},
     "output_type": "display_data"
    },
    {
     "name": "stdout",
     "output_type": "stream",
     "text": [
      "identified correctly in lexical: 1701/1967, 86.47686832740213%, uncertain 923, total 2890\n"
     ]
    },
    {
     "data": {
      "application/vnd.jupyter.widget-view+json": {
       "model_id": "22a2b892733f499e80fdf5ab37fcc14c",
       "version_major": 2,
       "version_minor": 0
      },
      "text/plain": [
       "  0%|          | 0/2038 [00:00<?, ?it/s]"
      ]
     },
     "metadata": {},
     "output_type": "display_data"
    },
    {
     "name": "stdout",
     "output_type": "stream",
     "text": [
      "identified correctly in discourse: 1102/1237, 89.08649959579628%, uncertain 801, total 2038\n"
     ]
    },
    {
     "data": {
      "application/vnd.jupyter.widget-view+json": {
       "model_id": "db506239383944d0bdbbb6c8ff4fdeec",
       "version_major": 2,
       "version_minor": 0
      },
      "text/plain": [
       "  0%|          | 0/4179 [00:00<?, ?it/s]"
      ]
     },
     "metadata": {},
     "output_type": "display_data"
    },
    {
     "name": "stdout",
     "output_type": "stream",
     "text": [
      "identified correctly in gram: 3246/3390, 95.75221238938053%, uncertain 789, total 4179\n",
      "in total: 6049 / 0.6642143406171077 correct, 545 / 0.05984407598550565 wrong, 2513 / 0.2759415833973866 uncertain\n"
     ]
    }
   ],
   "source": [
    "examples = []\n",
    "corr, wrong, uncertain = 0, 0, 0\n",
    "\n",
    "for error, sents in tqdm(errors.items()):\n",
    "    class_wrong, class_corr, class_uncertain = 0, 0, 0\n",
    "    for sent in tqdm(sents):\n",
    "        pr = prediction(sent)[0]\n",
    "        examples.append((sent, error, pr['label'], pr['score']))\n",
    "        if pr['score'] > 0.85:\n",
    "            if pr['label'] == error:\n",
    "                class_corr += 1\n",
    "            else:\n",
    "                class_wrong += 1\n",
    "        else:\n",
    "            class_uncertain += 1\n",
    "            \n",
    "            \n",
    "    corr += class_corr\n",
    "    uncertain += class_uncertain\n",
    "    wrong += class_wrong\n",
    "        \n",
    "    print(f'identified correctly in {error}: {class_corr}/{class_corr+class_wrong}, {class_corr/(max(class_corr+class_wrong, 1))*100}%, uncertain {class_uncertain}, total {class_corr+class_wrong+class_uncertain}')\n",
    "    \n",
    "print(f'in total: {corr} / {corr/(corr+wrong+uncertain)} correct, {wrong} / {wrong/(corr+wrong+uncertain)} wrong, {uncertain} / {uncertain/(corr+wrong+uncertain)} uncertain')"
   ]
  },
  {
   "cell_type": "code",
   "execution_count": 33,
   "id": "f09acc39",
   "metadata": {},
   "outputs": [],
   "source": [
    "df = pd.DataFrame(examples, columns=['error', 'target', 'pred', 'score'])"
   ]
  },
  {
   "cell_type": "code",
   "execution_count": 48,
   "id": "8d5c69da",
   "metadata": {},
   "outputs": [
    {
     "data": {
      "text/html": [
       "<div>\n",
       "<style scoped>\n",
       "    .dataframe tbody tr th:only-of-type {\n",
       "        vertical-align: middle;\n",
       "    }\n",
       "\n",
       "    .dataframe tbody tr th {\n",
       "        vertical-align: top;\n",
       "    }\n",
       "\n",
       "    .dataframe thead tr th {\n",
       "        text-align: left;\n",
       "    }\n",
       "\n",
       "    .dataframe thead tr:last-of-type th {\n",
       "        text-align: right;\n",
       "    }\n",
       "</style>\n",
       "<table border=\"1\" class=\"dataframe\">\n",
       "  <thead>\n",
       "    <tr>\n",
       "      <th></th>\n",
       "      <th></th>\n",
       "      <th>error</th>\n",
       "      <th colspan=\"3\" halign=\"left\">score</th>\n",
       "    </tr>\n",
       "    <tr>\n",
       "      <th></th>\n",
       "      <th></th>\n",
       "      <th>count</th>\n",
       "      <th>mean</th>\n",
       "      <th>median</th>\n",
       "      <th>var</th>\n",
       "    </tr>\n",
       "    <tr>\n",
       "      <th>target</th>\n",
       "      <th>pred</th>\n",
       "      <th></th>\n",
       "      <th></th>\n",
       "      <th></th>\n",
       "      <th></th>\n",
       "    </tr>\n",
       "  </thead>\n",
       "  <tbody>\n",
       "    <tr>\n",
       "      <th rowspan=\"3\" valign=\"top\">discourse</th>\n",
       "      <th>discourse</th>\n",
       "      <td>1601</td>\n",
       "      <td>0.860492</td>\n",
       "      <td>0.912022</td>\n",
       "      <td>0.017480</td>\n",
       "    </tr>\n",
       "    <tr>\n",
       "      <th>gram</th>\n",
       "      <td>225</td>\n",
       "      <td>0.754710</td>\n",
       "      <td>0.791175</td>\n",
       "      <td>0.029604</td>\n",
       "    </tr>\n",
       "    <tr>\n",
       "      <th>lexical</th>\n",
       "      <td>212</td>\n",
       "      <td>0.699108</td>\n",
       "      <td>0.670941</td>\n",
       "      <td>0.031080</td>\n",
       "    </tr>\n",
       "    <tr>\n",
       "      <th rowspan=\"3\" valign=\"top\">gram</th>\n",
       "      <th>discourse</th>\n",
       "      <td>213</td>\n",
       "      <td>0.724480</td>\n",
       "      <td>0.740948</td>\n",
       "      <td>0.025567</td>\n",
       "    </tr>\n",
       "    <tr>\n",
       "      <th>gram</th>\n",
       "      <td>3701</td>\n",
       "      <td>0.939350</td>\n",
       "      <td>0.982584</td>\n",
       "      <td>0.010324</td>\n",
       "    </tr>\n",
       "    <tr>\n",
       "      <th>lexical</th>\n",
       "      <td>265</td>\n",
       "      <td>0.746146</td>\n",
       "      <td>0.764241</td>\n",
       "      <td>0.026087</td>\n",
       "    </tr>\n",
       "    <tr>\n",
       "      <th rowspan=\"3\" valign=\"top\">lexical</th>\n",
       "      <th>discourse</th>\n",
       "      <td>251</td>\n",
       "      <td>0.733339</td>\n",
       "      <td>0.760736</td>\n",
       "      <td>0.024798</td>\n",
       "    </tr>\n",
       "    <tr>\n",
       "      <th>gram</th>\n",
       "      <td>420</td>\n",
       "      <td>0.790516</td>\n",
       "      <td>0.827214</td>\n",
       "      <td>0.025744</td>\n",
       "    </tr>\n",
       "    <tr>\n",
       "      <th>lexical</th>\n",
       "      <td>2219</td>\n",
       "      <td>0.894712</td>\n",
       "      <td>0.956900</td>\n",
       "      <td>0.016931</td>\n",
       "    </tr>\n",
       "  </tbody>\n",
       "</table>\n",
       "</div>"
      ],
      "text/plain": [
       "                    error     score                    \n",
       "                    count      mean    median       var\n",
       "target    pred                                         \n",
       "discourse discourse  1601  0.860492  0.912022  0.017480\n",
       "          gram        225  0.754710  0.791175  0.029604\n",
       "          lexical     212  0.699108  0.670941  0.031080\n",
       "gram      discourse   213  0.724480  0.740948  0.025567\n",
       "          gram       3701  0.939350  0.982584  0.010324\n",
       "          lexical     265  0.746146  0.764241  0.026087\n",
       "lexical   discourse   251  0.733339  0.760736  0.024798\n",
       "          gram        420  0.790516  0.827214  0.025744\n",
       "          lexical    2219  0.894712  0.956900  0.016931"
      ]
     },
     "execution_count": 48,
     "metadata": {},
     "output_type": "execute_result"
    }
   ],
   "source": [
    "df.groupby(['target', 'pred']).agg({'error':'count', 'score':['mean', 'median', 'var']})"
   ]
  },
  {
   "cell_type": "code",
   "execution_count": 35,
   "id": "b6c80dda",
   "metadata": {},
   "outputs": [],
   "source": [
    "df.to_excel('errors_3_classes_pred.xlsx')"
   ]
  },
  {
   "cell_type": "code",
   "execution_count": 3,
   "id": "c5ce604d",
   "metadata": {},
   "outputs": [],
   "source": [
    "df = pd.read_excel('errors_3_classes_pred.xlsx')"
   ]
  },
  {
   "cell_type": "markdown",
   "id": "af9498e7",
   "metadata": {},
   "source": [
    "(total predictions, correct predictions):"
   ]
  },
  {
   "cell_type": "code",
   "execution_count": 4,
   "id": "cb227c13",
   "metadata": {},
   "outputs": [
    {
     "data": {
      "text/plain": [
       "(9107, 7521)"
      ]
     },
     "execution_count": 4,
     "metadata": {},
     "output_type": "execute_result"
    }
   ],
   "source": [
    "len(df), len(df[df['target'] == df['pred']])"
   ]
  },
  {
   "cell_type": "markdown",
   "id": "e0914a2b",
   "metadata": {},
   "source": [
    "Calculate precision, recall, F1 and F0.5-measures and mean certainty for each class."
   ]
  },
  {
   "cell_type": "code",
   "execution_count": 26,
   "id": "22a837b5",
   "metadata": {},
   "outputs": [],
   "source": [
    "def prec_rec_f1(cl):\n",
    "    \n",
    "#     df_ = df[df['score'] > certain_treshold]\n",
    "    \n",
    "    TP = len(df[(df['target'] == cl) & (df['pred'] == cl)])\n",
    "    FP = len(df[(df['target'] != cl) & (df['pred'] == cl)])\n",
    "    TN = len(df[(df['target'] != cl) & (df['pred'] != cl)])\n",
    "    FN = len(df[(df['target'] == cl) & (df['pred'] != cl)])\n",
    "    precision = TP / (TP + FP)\n",
    "    recall = TP / (TP + FN)\n",
    "    f1 = TP / (TP + .5*(FP+FN))\n",
    "    f05 = 1.25 * TP / (1.25 * TP + 0.25 * FN + FP)\n",
    "    mean_score = mean(df[df['target'] == cl]['score'])\n",
    "    \n",
    "    try:\n",
    "        return precision, recall, f1, f05, mean_score\n",
    "    except Exception:\n",
    "        return None, None, None, None, None"
   ]
  },
  {
   "cell_type": "code",
   "execution_count": 27,
   "id": "42b091d9",
   "metadata": {},
   "outputs": [
    {
     "data": {
      "text/html": [
       "<div>\n",
       "<style scoped>\n",
       "    .dataframe tbody tr th:only-of-type {\n",
       "        vertical-align: middle;\n",
       "    }\n",
       "\n",
       "    .dataframe tbody tr th {\n",
       "        vertical-align: top;\n",
       "    }\n",
       "\n",
       "    .dataframe thead th {\n",
       "        text-align: right;\n",
       "    }\n",
       "</style>\n",
       "<table border=\"1\" class=\"dataframe\">\n",
       "  <thead>\n",
       "    <tr style=\"text-align: right;\">\n",
       "      <th></th>\n",
       "      <th>class</th>\n",
       "      <th>precision</th>\n",
       "      <th>recall</th>\n",
       "      <th>F1</th>\n",
       "      <th>F0.5</th>\n",
       "      <th>mean score</th>\n",
       "    </tr>\n",
       "  </thead>\n",
       "  <tbody>\n",
       "    <tr>\n",
       "      <th>0</th>\n",
       "      <td>lexical</td>\n",
       "      <td>0.823071</td>\n",
       "      <td>0.767820</td>\n",
       "      <td>0.794486</td>\n",
       "      <td>0.811394</td>\n",
       "      <td>0.865554</td>\n",
       "    </tr>\n",
       "    <tr>\n",
       "      <th>1</th>\n",
       "      <td>discourse</td>\n",
       "      <td>0.775303</td>\n",
       "      <td>0.785574</td>\n",
       "      <td>0.780405</td>\n",
       "      <td>0.777335</td>\n",
       "      <td>0.832026</td>\n",
       "    </tr>\n",
       "    <tr>\n",
       "      <th>2</th>\n",
       "      <td>gram</td>\n",
       "      <td>0.851588</td>\n",
       "      <td>0.885619</td>\n",
       "      <td>0.868270</td>\n",
       "      <td>0.858183</td>\n",
       "      <td>0.916147</td>\n",
       "    </tr>\n",
       "  </tbody>\n",
       "</table>\n",
       "</div>"
      ],
      "text/plain": [
       "       class  precision    recall        F1      F0.5  mean score\n",
       "0    lexical   0.823071  0.767820  0.794486  0.811394    0.865554\n",
       "1  discourse   0.775303  0.785574  0.780405  0.777335    0.832026\n",
       "2       gram   0.851588  0.885619  0.868270  0.858183    0.916147"
      ]
     },
     "execution_count": 27,
     "metadata": {},
     "output_type": "execute_result"
    }
   ],
   "source": [
    "classes = set(df['target'].tolist())\n",
    "\n",
    "pr, rec, f1, f05, means = [], [], [], [], []\n",
    "for cl in classes:\n",
    "        m1, m2, m3, m4, mean_score = prec_rec_f1(cl)\n",
    "        pr.append(m1)\n",
    "        rec.append(m2)\n",
    "        f1.append(m3)\n",
    "        f05.append(m4)\n",
    "        means.append(mean_score)\n",
    "    \n",
    "metrics = pd.DataFrame(data = list(zip(classes, pr, rec, f1, f05, means)), columns=['class', 'precision', 'recall', 'F1', 'F0.5', 'mean score'])\n",
    "metrics"
   ]
  },
  {
   "cell_type": "code",
   "execution_count": 20,
   "id": "4aba74a1",
   "metadata": {},
   "outputs": [],
   "source": [
    "from collections import Counter"
   ]
  },
  {
   "cell_type": "code",
   "execution_count": 21,
   "id": "0736f5d5",
   "metadata": {},
   "outputs": [
    {
     "data": {
      "text/plain": [
       "Counter({'lexical': 2890, 'discourse': 2038, 'gram': 4179})"
      ]
     },
     "execution_count": 21,
     "metadata": {},
     "output_type": "execute_result"
    }
   ],
   "source": [
    "Counter(df['target'])"
   ]
  },
  {
   "cell_type": "markdown",
   "id": "df06ecfd",
   "metadata": {},
   "source": [
    "Statistics on incorrect predictions only:"
   ]
  },
  {
   "cell_type": "code",
   "execution_count": 5,
   "id": "392ee93d",
   "metadata": {
    "scrolled": true
   },
   "outputs": [
    {
     "data": {
      "text/html": [
       "<div>\n",
       "<style scoped>\n",
       "    .dataframe tbody tr th:only-of-type {\n",
       "        vertical-align: middle;\n",
       "    }\n",
       "\n",
       "    .dataframe tbody tr th {\n",
       "        vertical-align: top;\n",
       "    }\n",
       "\n",
       "    .dataframe thead th {\n",
       "        text-align: right;\n",
       "    }\n",
       "</style>\n",
       "<table border=\"1\" class=\"dataframe\">\n",
       "  <thead>\n",
       "    <tr style=\"text-align: right;\">\n",
       "      <th></th>\n",
       "      <th>Unnamed: 0</th>\n",
       "      <th>error</th>\n",
       "      <th>target</th>\n",
       "      <th>pred</th>\n",
       "      <th>score</th>\n",
       "    </tr>\n",
       "  </thead>\n",
       "  <tbody>\n",
       "    <tr>\n",
       "      <th>2</th>\n",
       "      <td>2</td>\n",
       "      <td>from 2014 to 2015 → during the given period</td>\n",
       "      <td>lexical</td>\n",
       "      <td>discourse</td>\n",
       "      <td>0.584466</td>\n",
       "    </tr>\n",
       "    <tr>\n",
       "      <th>5</th>\n",
       "      <td>5</td>\n",
       "      <td>the least → The smallest one</td>\n",
       "      <td>lexical</td>\n",
       "      <td>discourse</td>\n",
       "      <td>0.586270</td>\n",
       "    </tr>\n",
       "    <tr>\n",
       "      <th>6</th>\n",
       "      <td>6</td>\n",
       "      <td>in → into</td>\n",
       "      <td>lexical</td>\n",
       "      <td>gram</td>\n",
       "      <td>0.959141</td>\n",
       "    </tr>\n",
       "    <tr>\n",
       "      <th>9</th>\n",
       "      <td>9</td>\n",
       "      <td>forecasted → predicted</td>\n",
       "      <td>lexical</td>\n",
       "      <td>gram</td>\n",
       "      <td>0.710353</td>\n",
       "    </tr>\n",
       "    <tr>\n",
       "      <th>10</th>\n",
       "      <td>10</td>\n",
       "      <td>which causes → the reasons of that</td>\n",
       "      <td>lexical</td>\n",
       "      <td>discourse</td>\n",
       "      <td>0.453980</td>\n",
       "    </tr>\n",
       "  </tbody>\n",
       "</table>\n",
       "</div>"
      ],
      "text/plain": [
       "    Unnamed: 0                                        error   target  \\\n",
       "2            2  from 2014 to 2015 → during the given period  lexical   \n",
       "5            5                 the least → The smallest one  lexical   \n",
       "6            6                                    in → into  lexical   \n",
       "9            9                       forecasted → predicted  lexical   \n",
       "10          10           which causes → the reasons of that  lexical   \n",
       "\n",
       "         pred     score  \n",
       "2   discourse  0.584466  \n",
       "5   discourse  0.586270  \n",
       "6        gram  0.959141  \n",
       "9        gram  0.710353  \n",
       "10  discourse  0.453980  "
      ]
     },
     "execution_count": 5,
     "metadata": {},
     "output_type": "execute_result"
    }
   ],
   "source": [
    "incorrect = df[df['target'] != df['pred']]\n",
    "incorrect.head()"
   ]
  },
  {
   "cell_type": "code",
   "execution_count": 5,
   "id": "7df1421f",
   "metadata": {},
   "outputs": [
    {
     "data": {
      "text/html": [
       "<div>\n",
       "<style scoped>\n",
       "    .dataframe tbody tr th:only-of-type {\n",
       "        vertical-align: middle;\n",
       "    }\n",
       "\n",
       "    .dataframe tbody tr th {\n",
       "        vertical-align: top;\n",
       "    }\n",
       "\n",
       "    .dataframe thead tr th {\n",
       "        text-align: left;\n",
       "    }\n",
       "\n",
       "    .dataframe thead tr:last-of-type th {\n",
       "        text-align: right;\n",
       "    }\n",
       "</style>\n",
       "<table border=\"1\" class=\"dataframe\">\n",
       "  <thead>\n",
       "    <tr>\n",
       "      <th></th>\n",
       "      <th></th>\n",
       "      <th>error</th>\n",
       "      <th colspan=\"2\" halign=\"left\">score</th>\n",
       "    </tr>\n",
       "    <tr>\n",
       "      <th></th>\n",
       "      <th></th>\n",
       "      <th>count</th>\n",
       "      <th>mean</th>\n",
       "      <th>median</th>\n",
       "    </tr>\n",
       "    <tr>\n",
       "      <th>target</th>\n",
       "      <th>pred</th>\n",
       "      <th></th>\n",
       "      <th></th>\n",
       "      <th></th>\n",
       "    </tr>\n",
       "  </thead>\n",
       "  <tbody>\n",
       "    <tr>\n",
       "      <th rowspan=\"2\" valign=\"top\">discourse</th>\n",
       "      <th>gram</th>\n",
       "      <td>225</td>\n",
       "      <td>0.754710</td>\n",
       "      <td>0.791175</td>\n",
       "    </tr>\n",
       "    <tr>\n",
       "      <th>lexical</th>\n",
       "      <td>212</td>\n",
       "      <td>0.699108</td>\n",
       "      <td>0.670941</td>\n",
       "    </tr>\n",
       "    <tr>\n",
       "      <th rowspan=\"2\" valign=\"top\">gram</th>\n",
       "      <th>discourse</th>\n",
       "      <td>213</td>\n",
       "      <td>0.724480</td>\n",
       "      <td>0.740948</td>\n",
       "    </tr>\n",
       "    <tr>\n",
       "      <th>lexical</th>\n",
       "      <td>265</td>\n",
       "      <td>0.746146</td>\n",
       "      <td>0.764241</td>\n",
       "    </tr>\n",
       "    <tr>\n",
       "      <th rowspan=\"2\" valign=\"top\">lexical</th>\n",
       "      <th>discourse</th>\n",
       "      <td>251</td>\n",
       "      <td>0.733339</td>\n",
       "      <td>0.760736</td>\n",
       "    </tr>\n",
       "    <tr>\n",
       "      <th>gram</th>\n",
       "      <td>420</td>\n",
       "      <td>0.790516</td>\n",
       "      <td>0.827214</td>\n",
       "    </tr>\n",
       "  </tbody>\n",
       "</table>\n",
       "</div>"
      ],
      "text/plain": [
       "                    error     score          \n",
       "                    count      mean    median\n",
       "target    pred                               \n",
       "discourse gram        225  0.754710  0.791175\n",
       "          lexical     212  0.699108  0.670941\n",
       "gram      discourse   213  0.724480  0.740948\n",
       "          lexical     265  0.746146  0.764241\n",
       "lexical   discourse   251  0.733339  0.760736\n",
       "          gram        420  0.790516  0.827214"
      ]
     },
     "execution_count": 5,
     "metadata": {},
     "output_type": "execute_result"
    }
   ],
   "source": [
    "incorrect.groupby(['target', 'pred']).agg({'error': 'count', 'score':['mean', 'median']})"
   ]
  },
  {
   "cell_type": "markdown",
   "id": "075aeb05",
   "metadata": {},
   "source": [
    "Build boxplots for each class -- a visual representation of median and 1st and 3rd quartiles:"
   ]
  },
  {
   "cell_type": "code",
   "execution_count": 6,
   "id": "5d5b5d02",
   "metadata": {},
   "outputs": [
    {
     "data": {
      "image/png": "[encoded data removed]",
      "text/plain": [
       "<Figure size 1440x2880 with 3 Axes>"
      ]
     },
     "metadata": {
      "needs_background": "light"
     },
     "output_type": "display_data"
    }
   ],
   "source": [
    "tags = ['discourse', 'gram', 'lexical']\n",
    "fig, ax = plt.subplots(len(tags), figsize=(20,40))\n",
    "for n, tag in enumerate(tags):\n",
    "    sub = df.groupby(['target'])\n",
    "    labels = sorted(set(sub.get_group(tag)['pred'].tolist()))\n",
    "#     print(labels)\n",
    "    bp = df[df['target'] == tag].boxplot(column='score', by=['target', 'pred'], \n",
    "                                         ax=ax[n], color='r')\n",
    "    ax[n].set_title(tag)\n",
    "    ax[n].set_xticks(range(1, len(labels)+1), labels=labels)\n",
    "    ax[n].set_xlabel('')\n",
    "    \n",
    "fig.suptitle('')\n",
    "plt.show()"
   ]
  },
  {
   "cell_type": "markdown",
   "id": "e81c48c2",
   "metadata": {},
   "source": [
    "As seen on a single boxplot:"
   ]
  },
  {
   "cell_type": "code",
   "execution_count": 21,
   "id": "2dbff61f",
   "metadata": {
    "scrolled": true
   },
   "outputs": [
    {
     "data": {
      "image/png": "[encoded data removed]",
      "text/plain": [
       "<Figure size 1440x720 with 1 Axes>"
      ]
     },
     "metadata": {
      "needs_background": "light"
     },
     "output_type": "display_data"
    }
   ],
   "source": [
    "fig, ax = plt.subplots(figsize=(20,10))\n",
    "bp = df.boxplot(column='score', by=['target', 'pred'], ax=ax, color='r', showfliers=False)\n",
    "bp.get_figure().gca().set_title(\"\")\n",
    "ax.set_title('General class predictions')\n",
    "labels = ['Discourse (Discourse)', 'Discourse (Grammar)', 'Discourse (Lexical)',\n",
    "              'Grammar (Discourse)', 'Grammar (Grammar)', 'Grammar (Lexical)',\n",
    "              'Lexical (Discourse)', 'Lexical (Grammar)', 'Lexical (Lexical)']\n",
    "ax.set_xticks(range(1, len(labels)+1), labels=labels)\n",
    "ax.set_xlabel('Target (Predicted)')\n",
    "ax.set_ylabel('certainty')\n",
    "plt.title('General class predictions')\n",
    "plt.savefig('general_pred.png')\n",
    "plt.show()"
   ]
  },
  {
   "cell_type": "markdown",
   "id": "acdb37d7",
   "metadata": {},
   "source": [
    "# DISCOURSE"
   ]
  },
  {
   "cell_type": "code",
   "execution_count": 2,
   "id": "1c3e7d9a",
   "metadata": {},
   "outputs": [],
   "source": [
    "path_to_model = ...\n",
    "tokenizer = RobertaTokenizerFast.from_pretrained(path_to_model)\n",
    "train = pickle.load(open('split_train_disc_eo.pickle', 'rb'))\n",
    "data = pd.DataFrame(train, columns=['text', 'tag'])\n",
    "tags = set(data['tag'].tolist())\n",
    "id2label = {n:tag for n, tag in enumerate(['Absence_comp_sent', 'Absence_explanation', \n",
    "                                           'Inappropriate_register', \n",
    "                                            'Linking_device', 'Redundant_comp', \n",
    "                                            'Ref_device'])}\n",
    "label2id = {n:tag for tag, n in id2label.items()}"
   ]
  },
  {
   "cell_type": "code",
   "execution_count": 3,
   "id": "a03b2a28",
   "metadata": {},
   "outputs": [
    {
     "data": {
      "text/plain": [
       "{0: 'Absence_comp_sent',\n",
       " 1: 'Absence_explanation',\n",
       " 2: 'Inappropriate_register',\n",
       " 3: 'Linking_device',\n",
       " 4: 'Redundant_comp',\n",
       " 5: 'Ref_device'}"
      ]
     },
     "execution_count": 3,
     "metadata": {},
     "output_type": "execute_result"
    }
   ],
   "source": [
    "id2label"
   ]
  },
  {
   "cell_type": "code",
   "execution_count": 49,
   "id": "d0f008db",
   "metadata": {},
   "outputs": [],
   "source": [
    "prediction = TextClassificationPipeline(\n",
    "    model=RobertaForSequenceClassification.from_pretrained(path_to_model, num_labels=len(id2label), id2label=id2label, label2id=label2id),\n",
    "    tokenizer=tokenizer,\n",
    ")"
   ]
  },
  {
   "cell_type": "code",
   "execution_count": 4,
   "id": "9ef29536",
   "metadata": {},
   "outputs": [
    {
     "data": {
      "application/vnd.jupyter.widget-view+json": {
       "model_id": "",
       "version_major": 2,
       "version_minor": 0
      },
      "text/plain": [
       "Stringifying the column:   0%|          | 0/10388 [00:00<?, ? examples/s]"
      ]
     },
     "metadata": {},
     "output_type": "display_data"
    },
    {
     "data": {
      "application/vnd.jupyter.widget-view+json": {
       "model_id": "",
       "version_major": 2,
       "version_minor": 0
      },
      "text/plain": [
       "Casting to class labels:   0%|          | 0/10388 [00:00<?, ? examples/s]"
      ]
     },
     "metadata": {},
     "output_type": "display_data"
    },
    {
     "data": {
      "text/plain": [
       "(8310, 2078)"
      ]
     },
     "execution_count": 4,
     "metadata": {},
     "output_type": "execute_result"
    }
   ],
   "source": [
    "data = pd.DataFrame(train, columns=['text', 'label'])\n",
    "data['tag'] = data.apply(lambda x: id2label[x['label']], axis=1)\n",
    "dataset = Dataset.from_pandas(data[['text', 'label', 'tag']]).class_encode_column('label')\n",
    "dataset = dataset.train_test_split(test_size=0.2, seed=42)\n",
    "len(dataset['train']), len(dataset['test'])\n",
    "df = dataset['test'].to_pandas()"
   ]
  },
  {
   "cell_type": "code",
   "execution_count": 53,
   "id": "2138073b",
   "metadata": {},
   "outputs": [
    {
     "data": {
      "application/vnd.jupyter.widget-view+json": {
       "model_id": "3a583ae3dac147d7a4b19bdc9def002e",
       "version_major": 2,
       "version_minor": 0
      },
      "text/plain": [
       "  0%|          | 0/6 [00:00<?, ?it/s]"
      ]
     },
     "metadata": {},
     "output_type": "display_data"
    },
    {
     "data": {
      "application/vnd.jupyter.widget-view+json": {
       "model_id": "dca1f83644ce43408d8ccca2d57b0ade",
       "version_major": 2,
       "version_minor": 0
      },
      "text/plain": [
       "  0%|          | 0/741 [00:00<?, ?it/s]"
      ]
     },
     "metadata": {},
     "output_type": "display_data"
    },
    {
     "name": "stdout",
     "output_type": "stream",
     "text": [
      "identified correctly in Absence_comp_sent: 386/422, 91.4691943127962%, uncertain 319, total 741\n"
     ]
    },
    {
     "data": {
      "application/vnd.jupyter.widget-view+json": {
       "model_id": "83484306dd4d419880258c1467fa9063",
       "version_major": 2,
       "version_minor": 0
      },
      "text/plain": [
       "  0%|          | 0/458 [00:00<?, ?it/s]"
      ]
     },
     "metadata": {},
     "output_type": "display_data"
    },
    {
     "name": "stdout",
     "output_type": "stream",
     "text": [
      "identified correctly in Absence_explanation: 139/174, 79.88505747126436%, uncertain 284, total 458\n"
     ]
    },
    {
     "data": {
      "application/vnd.jupyter.widget-view+json": {
       "model_id": "324cd973f4284611a0f5a129e78774d9",
       "version_major": 2,
       "version_minor": 0
      },
      "text/plain": [
       "  0%|          | 0/327 [00:00<?, ?it/s]"
      ]
     },
     "metadata": {},
     "output_type": "display_data"
    },
    {
     "name": "stdout",
     "output_type": "stream",
     "text": [
      "identified correctly in Inappropriate_register: 183/205, 89.26829268292683%, uncertain 122, total 327\n"
     ]
    },
    {
     "data": {
      "application/vnd.jupyter.widget-view+json": {
       "model_id": "6a5bc4d2fede40b798ccf07b1260ec88",
       "version_major": 2,
       "version_minor": 0
      },
      "text/plain": [
       "  0%|          | 0/162 [00:00<?, ?it/s]"
      ]
     },
     "metadata": {},
     "output_type": "display_data"
    },
    {
     "name": "stdout",
     "output_type": "stream",
     "text": [
      "identified correctly in Linking_device: 106/117, 90.5982905982906%, uncertain 45, total 162\n"
     ]
    },
    {
     "data": {
      "application/vnd.jupyter.widget-view+json": {
       "model_id": "6193bf6e80a14180880cdaaf821446ad",
       "version_major": 2,
       "version_minor": 0
      },
      "text/plain": [
       "  0%|          | 0/111 [00:00<?, ?it/s]"
      ]
     },
     "metadata": {},
     "output_type": "display_data"
    },
    {
     "name": "stdout",
     "output_type": "stream",
     "text": [
      "identified correctly in Redundant_comp: 42/56, 75.0%, uncertain 55, total 111\n"
     ]
    },
    {
     "data": {
      "application/vnd.jupyter.widget-view+json": {
       "model_id": "967c017e0cf94c9a965129487152b51b",
       "version_major": 2,
       "version_minor": 0
      },
      "text/plain": [
       "  0%|          | 0/279 [00:00<?, ?it/s]"
      ]
     },
     "metadata": {},
     "output_type": "display_data"
    },
    {
     "name": "stdout",
     "output_type": "stream",
     "text": [
      "identified correctly in Ref_device: 136/164, 82.92682926829268%, uncertain 115, total 279\n",
      "in total: 992 / 0.4773820981713186 correct, 146 / 0.07025986525505294 wrong, 940 / 0.4523580365736285 uncertain\n"
     ]
    }
   ],
   "source": [
    "examples = []\n",
    "corr, wrong, uncertain = 0, 0, 0\n",
    "\n",
    "for error, sents in tqdm(errors.items()):\n",
    "    class_wrong, class_corr, class_uncertain = 0, 0, 0\n",
    "    for sent in tqdm(sents):\n",
    "        pr = prediction(sent)[0]\n",
    "        examples.append((sent, error, pr['label'], pr['score']))\n",
    "        if pr['score'] > 0.85:\n",
    "            if pr['label'] == error:\n",
    "                class_corr += 1\n",
    "            else:\n",
    "                class_wrong += 1\n",
    "        else:\n",
    "            class_uncertain += 1\n",
    "            \n",
    "            \n",
    "    corr += class_corr\n",
    "    uncertain += class_uncertain\n",
    "    wrong += class_wrong\n",
    "        \n",
    "    print(f'identified correctly in {error}: {class_corr}/{class_corr+class_wrong}, {class_corr/(max(class_corr+class_wrong, 1))*100}%, uncertain {class_uncertain}, total {class_corr+class_wrong+class_uncertain}')\n",
    "    \n",
    "print(f'in total: {corr} / {corr/(corr+wrong+uncertain)} correct, {wrong} / {wrong/(corr+wrong+uncertain)} wrong, {uncertain} / {uncertain/(corr+wrong+uncertain)} uncertain')"
   ]
  },
  {
   "cell_type": "code",
   "execution_count": 63,
   "id": "79215c05",
   "metadata": {},
   "outputs": [
    {
     "data": {
      "text/html": [
       "<div>\n",
       "<style scoped>\n",
       "    .dataframe tbody tr th:only-of-type {\n",
       "        vertical-align: middle;\n",
       "    }\n",
       "\n",
       "    .dataframe tbody tr th {\n",
       "        vertical-align: top;\n",
       "    }\n",
       "\n",
       "    .dataframe thead th {\n",
       "        text-align: right;\n",
       "    }\n",
       "</style>\n",
       "<table border=\"1\" class=\"dataframe\">\n",
       "  <thead>\n",
       "    <tr style=\"text-align: right;\">\n",
       "      <th></th>\n",
       "      <th>error</th>\n",
       "      <th>target</th>\n",
       "      <th>pred</th>\n",
       "      <th>score</th>\n",
       "    </tr>\n",
       "  </thead>\n",
       "  <tbody>\n",
       "    <tr>\n",
       "      <th>0</th>\n",
       "      <td>active → to be active</td>\n",
       "      <td>Absence_comp_sent</td>\n",
       "      <td>Absence_comp_sent</td>\n",
       "      <td>0.918563</td>\n",
       "    </tr>\n",
       "    <tr>\n",
       "      <th>1</th>\n",
       "      <td>sector → is</td>\n",
       "      <td>Absence_comp_sent</td>\n",
       "      <td>Absence_comp_sent</td>\n",
       "      <td>0.540116</td>\n",
       "    </tr>\n",
       "    <tr>\n",
       "      <th>2</th>\n",
       "      <td>The second question, that I can notice in a st...</td>\n",
       "      <td>Absence_comp_sent</td>\n",
       "      <td>Absence_comp_sent</td>\n",
       "      <td>0.658758</td>\n",
       "    </tr>\n",
       "    <tr>\n",
       "      <th>3</th>\n",
       "      <td>their minds → the qualities of their minds</td>\n",
       "      <td>Absence_comp_sent</td>\n",
       "      <td>Absence_explanation</td>\n",
       "      <td>0.812093</td>\n",
       "    </tr>\n",
       "    <tr>\n",
       "      <th>4</th>\n",
       "      <td>public health → the level of public health</td>\n",
       "      <td>Absence_comp_sent</td>\n",
       "      <td>Absence_comp_sent</td>\n",
       "      <td>0.913004</td>\n",
       "    </tr>\n",
       "  </tbody>\n",
       "</table>\n",
       "</div>"
      ],
      "text/plain": [
       "                                               error             target  \\\n",
       "0                              active → to be active  Absence_comp_sent   \n",
       "1                                        sector → is  Absence_comp_sent   \n",
       "2  The second question, that I can notice in a st...  Absence_comp_sent   \n",
       "3         their minds → the qualities of their minds  Absence_comp_sent   \n",
       "4         public health → the level of public health  Absence_comp_sent   \n",
       "\n",
       "                  pred     score  \n",
       "0    Absence_comp_sent  0.918563  \n",
       "1    Absence_comp_sent  0.540116  \n",
       "2    Absence_comp_sent  0.658758  \n",
       "3  Absence_explanation  0.812093  \n",
       "4    Absence_comp_sent  0.913004  "
      ]
     },
     "execution_count": 63,
     "metadata": {},
     "output_type": "execute_result"
    }
   ],
   "source": [
    "df = pd.DataFrame(examples, columns=['error', 'target', 'pred', 'score'])\n",
    "df.head()"
   ]
  },
  {
   "cell_type": "code",
   "execution_count": 56,
   "id": "f3668ade",
   "metadata": {},
   "outputs": [],
   "source": [
    "df.to_excel('errors_disc_pred.xlsx')"
   ]
  },
  {
   "cell_type": "code",
   "execution_count": 7,
   "id": "eaca2eb8",
   "metadata": {},
   "outputs": [],
   "source": [
    "df = pd.read_excel('errors_disc_pred.xlsx', index_col=0)"
   ]
  },
  {
   "cell_type": "code",
   "execution_count": 8,
   "id": "133d0b4b",
   "metadata": {},
   "outputs": [
    {
     "data": {
      "text/html": [
       "<div>\n",
       "<style scoped>\n",
       "    .dataframe tbody tr th:only-of-type {\n",
       "        vertical-align: middle;\n",
       "    }\n",
       "\n",
       "    .dataframe tbody tr th {\n",
       "        vertical-align: top;\n",
       "    }\n",
       "\n",
       "    .dataframe thead th {\n",
       "        text-align: right;\n",
       "    }\n",
       "</style>\n",
       "<table border=\"1\" class=\"dataframe\">\n",
       "  <thead>\n",
       "    <tr style=\"text-align: right;\">\n",
       "      <th></th>\n",
       "      <th>error</th>\n",
       "      <th>target</th>\n",
       "      <th>pred</th>\n",
       "      <th>score</th>\n",
       "    </tr>\n",
       "  </thead>\n",
       "  <tbody>\n",
       "    <tr>\n",
       "      <th>0</th>\n",
       "      <td>active → to be active</td>\n",
       "      <td>Absence_comp_sent</td>\n",
       "      <td>Absence_comp_sent</td>\n",
       "      <td>0.918563</td>\n",
       "    </tr>\n",
       "    <tr>\n",
       "      <th>1</th>\n",
       "      <td>sector → is</td>\n",
       "      <td>Absence_comp_sent</td>\n",
       "      <td>Absence_comp_sent</td>\n",
       "      <td>0.540116</td>\n",
       "    </tr>\n",
       "    <tr>\n",
       "      <th>2</th>\n",
       "      <td>The second question, that I can notice in a st...</td>\n",
       "      <td>Absence_comp_sent</td>\n",
       "      <td>Absence_comp_sent</td>\n",
       "      <td>0.658758</td>\n",
       "    </tr>\n",
       "    <tr>\n",
       "      <th>3</th>\n",
       "      <td>their minds → the qualities of their minds</td>\n",
       "      <td>Absence_comp_sent</td>\n",
       "      <td>Absence_explanation</td>\n",
       "      <td>0.812093</td>\n",
       "    </tr>\n",
       "    <tr>\n",
       "      <th>4</th>\n",
       "      <td>public health → the level of public health</td>\n",
       "      <td>Absence_comp_sent</td>\n",
       "      <td>Absence_comp_sent</td>\n",
       "      <td>0.913004</td>\n",
       "    </tr>\n",
       "  </tbody>\n",
       "</table>\n",
       "</div>"
      ],
      "text/plain": [
       "                                               error             target  \\\n",
       "0                              active → to be active  Absence_comp_sent   \n",
       "1                                        sector → is  Absence_comp_sent   \n",
       "2  The second question, that I can notice in a st...  Absence_comp_sent   \n",
       "3         their minds → the qualities of their minds  Absence_comp_sent   \n",
       "4         public health → the level of public health  Absence_comp_sent   \n",
       "\n",
       "                  pred     score  \n",
       "0    Absence_comp_sent  0.918563  \n",
       "1    Absence_comp_sent  0.540116  \n",
       "2    Absence_comp_sent  0.658758  \n",
       "3  Absence_explanation  0.812093  \n",
       "4    Absence_comp_sent  0.913004  "
      ]
     },
     "execution_count": 8,
     "metadata": {},
     "output_type": "execute_result"
    }
   ],
   "source": [
    "df.head()"
   ]
  },
  {
   "cell_type": "code",
   "execution_count": 5,
   "id": "b5600e82",
   "metadata": {},
   "outputs": [
    {
     "data": {
      "text/html": [
       "<div>\n",
       "<style scoped>\n",
       "    .dataframe tbody tr th:only-of-type {\n",
       "        vertical-align: middle;\n",
       "    }\n",
       "\n",
       "    .dataframe tbody tr th {\n",
       "        vertical-align: top;\n",
       "    }\n",
       "\n",
       "    .dataframe thead tr th {\n",
       "        text-align: left;\n",
       "    }\n",
       "\n",
       "    .dataframe thead tr:last-of-type th {\n",
       "        text-align: right;\n",
       "    }\n",
       "</style>\n",
       "<table border=\"1\" class=\"dataframe\">\n",
       "  <thead>\n",
       "    <tr>\n",
       "      <th></th>\n",
       "      <th></th>\n",
       "      <th>error</th>\n",
       "      <th colspan=\"3\" halign=\"left\">score</th>\n",
       "    </tr>\n",
       "    <tr>\n",
       "      <th></th>\n",
       "      <th></th>\n",
       "      <th>count</th>\n",
       "      <th>mean</th>\n",
       "      <th>median</th>\n",
       "      <th>var</th>\n",
       "    </tr>\n",
       "    <tr>\n",
       "      <th>target</th>\n",
       "      <th>pred</th>\n",
       "      <th></th>\n",
       "      <th></th>\n",
       "      <th></th>\n",
       "      <th></th>\n",
       "    </tr>\n",
       "  </thead>\n",
       "  <tbody>\n",
       "    <tr>\n",
       "      <th rowspan=\"6\" valign=\"top\">Absence_comp_sent</th>\n",
       "      <th>Absence_comp_sent</th>\n",
       "      <td>574</td>\n",
       "      <td>0.861661</td>\n",
       "      <td>0.928697</td>\n",
       "      <td>0.020321</td>\n",
       "    </tr>\n",
       "    <tr>\n",
       "      <th>Absence_explanation</th>\n",
       "      <td>121</td>\n",
       "      <td>0.698644</td>\n",
       "      <td>0.697941</td>\n",
       "      <td>0.021573</td>\n",
       "    </tr>\n",
       "    <tr>\n",
       "      <th>Inappropriate_register</th>\n",
       "      <td>5</td>\n",
       "      <td>0.831450</td>\n",
       "      <td>0.832158</td>\n",
       "      <td>0.006976</td>\n",
       "    </tr>\n",
       "    <tr>\n",
       "      <th>Linking_device</th>\n",
       "      <td>17</td>\n",
       "      <td>0.714113</td>\n",
       "      <td>0.768479</td>\n",
       "      <td>0.044295</td>\n",
       "    </tr>\n",
       "    <tr>\n",
       "      <th>Redundant_comp</th>\n",
       "      <td>5</td>\n",
       "      <td>0.598257</td>\n",
       "      <td>0.529726</td>\n",
       "      <td>0.019625</td>\n",
       "    </tr>\n",
       "    <tr>\n",
       "      <th>Ref_device</th>\n",
       "      <td>19</td>\n",
       "      <td>0.678424</td>\n",
       "      <td>0.718761</td>\n",
       "      <td>0.026592</td>\n",
       "    </tr>\n",
       "    <tr>\n",
       "      <th rowspan=\"6\" valign=\"top\">Absence_explanation</th>\n",
       "      <th>Absence_comp_sent</th>\n",
       "      <td>138</td>\n",
       "      <td>0.717844</td>\n",
       "      <td>0.717958</td>\n",
       "      <td>0.024319</td>\n",
       "    </tr>\n",
       "    <tr>\n",
       "      <th>Absence_explanation</th>\n",
       "      <td>303</td>\n",
       "      <td>0.795023</td>\n",
       "      <td>0.833168</td>\n",
       "      <td>0.020996</td>\n",
       "    </tr>\n",
       "    <tr>\n",
       "      <th>Inappropriate_register</th>\n",
       "      <td>7</td>\n",
       "      <td>0.845859</td>\n",
       "      <td>0.821223</td>\n",
       "      <td>0.002365</td>\n",
       "    </tr>\n",
       "    <tr>\n",
       "      <th>Linking_device</th>\n",
       "      <td>2</td>\n",
       "      <td>0.619409</td>\n",
       "      <td>0.619409</td>\n",
       "      <td>0.003719</td>\n",
       "    </tr>\n",
       "    <tr>\n",
       "      <th>Redundant_comp</th>\n",
       "      <td>2</td>\n",
       "      <td>0.388840</td>\n",
       "      <td>0.388840</td>\n",
       "      <td>0.015449</td>\n",
       "    </tr>\n",
       "    <tr>\n",
       "      <th>Ref_device</th>\n",
       "      <td>6</td>\n",
       "      <td>0.738420</td>\n",
       "      <td>0.810030</td>\n",
       "      <td>0.036698</td>\n",
       "    </tr>\n",
       "    <tr>\n",
       "      <th rowspan=\"6\" valign=\"top\">Inappropriate_register</th>\n",
       "      <th>Absence_comp_sent</th>\n",
       "      <td>16</td>\n",
       "      <td>0.752530</td>\n",
       "      <td>0.794615</td>\n",
       "      <td>0.035879</td>\n",
       "    </tr>\n",
       "    <tr>\n",
       "      <th>Absence_explanation</th>\n",
       "      <td>17</td>\n",
       "      <td>0.662896</td>\n",
       "      <td>0.642087</td>\n",
       "      <td>0.029293</td>\n",
       "    </tr>\n",
       "    <tr>\n",
       "      <th>Inappropriate_register</th>\n",
       "      <td>261</td>\n",
       "      <td>0.898834</td>\n",
       "      <td>0.965107</td>\n",
       "      <td>0.014474</td>\n",
       "    </tr>\n",
       "    <tr>\n",
       "      <th>Linking_device</th>\n",
       "      <td>12</td>\n",
       "      <td>0.803717</td>\n",
       "      <td>0.893086</td>\n",
       "      <td>0.034275</td>\n",
       "    </tr>\n",
       "    <tr>\n",
       "      <th>Redundant_comp</th>\n",
       "      <td>14</td>\n",
       "      <td>0.669322</td>\n",
       "      <td>0.722338</td>\n",
       "      <td>0.031962</td>\n",
       "    </tr>\n",
       "    <tr>\n",
       "      <th>Ref_device</th>\n",
       "      <td>7</td>\n",
       "      <td>0.674665</td>\n",
       "      <td>0.649228</td>\n",
       "      <td>0.020400</td>\n",
       "    </tr>\n",
       "    <tr>\n",
       "      <th rowspan=\"6\" valign=\"top\">Linking_device</th>\n",
       "      <th>Absence_comp_sent</th>\n",
       "      <td>21</td>\n",
       "      <td>0.739925</td>\n",
       "      <td>0.800586</td>\n",
       "      <td>0.034103</td>\n",
       "    </tr>\n",
       "    <tr>\n",
       "      <th>Absence_explanation</th>\n",
       "      <td>5</td>\n",
       "      <td>0.423147</td>\n",
       "      <td>0.369488</td>\n",
       "      <td>0.007329</td>\n",
       "    </tr>\n",
       "    <tr>\n",
       "      <th>Inappropriate_register</th>\n",
       "      <td>1</td>\n",
       "      <td>0.655111</td>\n",
       "      <td>0.655111</td>\n",
       "      <td>NaN</td>\n",
       "    </tr>\n",
       "    <tr>\n",
       "      <th>Linking_device</th>\n",
       "      <td>126</td>\n",
       "      <td>0.887860</td>\n",
       "      <td>0.939405</td>\n",
       "      <td>0.017513</td>\n",
       "    </tr>\n",
       "    <tr>\n",
       "      <th>Redundant_comp</th>\n",
       "      <td>3</td>\n",
       "      <td>0.576013</td>\n",
       "      <td>0.510127</td>\n",
       "      <td>0.063188</td>\n",
       "    </tr>\n",
       "    <tr>\n",
       "      <th>Ref_device</th>\n",
       "      <td>6</td>\n",
       "      <td>0.697222</td>\n",
       "      <td>0.669136</td>\n",
       "      <td>0.058316</td>\n",
       "    </tr>\n",
       "    <tr>\n",
       "      <th rowspan=\"6\" valign=\"top\">Redundant_comp</th>\n",
       "      <th>Absence_comp_sent</th>\n",
       "      <td>13</td>\n",
       "      <td>0.758409</td>\n",
       "      <td>0.735978</td>\n",
       "      <td>0.030066</td>\n",
       "    </tr>\n",
       "    <tr>\n",
       "      <th>Absence_explanation</th>\n",
       "      <td>11</td>\n",
       "      <td>0.612024</td>\n",
       "      <td>0.572827</td>\n",
       "      <td>0.029501</td>\n",
       "    </tr>\n",
       "    <tr>\n",
       "      <th>Inappropriate_register</th>\n",
       "      <td>6</td>\n",
       "      <td>0.703216</td>\n",
       "      <td>0.733063</td>\n",
       "      <td>0.030712</td>\n",
       "    </tr>\n",
       "    <tr>\n",
       "      <th>Linking_device</th>\n",
       "      <td>11</td>\n",
       "      <td>0.784275</td>\n",
       "      <td>0.807273</td>\n",
       "      <td>0.024518</td>\n",
       "    </tr>\n",
       "    <tr>\n",
       "      <th>Redundant_comp</th>\n",
       "      <td>64</td>\n",
       "      <td>0.831730</td>\n",
       "      <td>0.873106</td>\n",
       "      <td>0.015401</td>\n",
       "    </tr>\n",
       "    <tr>\n",
       "      <th>Ref_device</th>\n",
       "      <td>6</td>\n",
       "      <td>0.752290</td>\n",
       "      <td>0.766007</td>\n",
       "      <td>0.009419</td>\n",
       "    </tr>\n",
       "    <tr>\n",
       "      <th rowspan=\"6\" valign=\"top\">Ref_device</th>\n",
       "      <th>Absence_comp_sent</th>\n",
       "      <td>36</td>\n",
       "      <td>0.697105</td>\n",
       "      <td>0.714827</td>\n",
       "      <td>0.042000</td>\n",
       "    </tr>\n",
       "    <tr>\n",
       "      <th>Absence_explanation</th>\n",
       "      <td>31</td>\n",
       "      <td>0.708049</td>\n",
       "      <td>0.765701</td>\n",
       "      <td>0.033747</td>\n",
       "    </tr>\n",
       "    <tr>\n",
       "      <th>Inappropriate_register</th>\n",
       "      <td>19</td>\n",
       "      <td>0.746084</td>\n",
       "      <td>0.810427</td>\n",
       "      <td>0.013523</td>\n",
       "    </tr>\n",
       "    <tr>\n",
       "      <th>Linking_device</th>\n",
       "      <td>9</td>\n",
       "      <td>0.768634</td>\n",
       "      <td>0.894713</td>\n",
       "      <td>0.054615</td>\n",
       "    </tr>\n",
       "    <tr>\n",
       "      <th>Redundant_comp</th>\n",
       "      <td>4</td>\n",
       "      <td>0.720760</td>\n",
       "      <td>0.737232</td>\n",
       "      <td>0.019419</td>\n",
       "    </tr>\n",
       "    <tr>\n",
       "      <th>Ref_device</th>\n",
       "      <td>180</td>\n",
       "      <td>0.897634</td>\n",
       "      <td>0.967676</td>\n",
       "      <td>0.019411</td>\n",
       "    </tr>\n",
       "  </tbody>\n",
       "</table>\n",
       "</div>"
      ],
      "text/plain": [
       "                                              error     score            \\\n",
       "                                              count      mean    median   \n",
       "target                 pred                                               \n",
       "Absence_comp_sent      Absence_comp_sent        574  0.861661  0.928697   \n",
       "                       Absence_explanation      121  0.698644  0.697941   \n",
       "                       Inappropriate_register     5  0.831450  0.832158   \n",
       "                       Linking_device            17  0.714113  0.768479   \n",
       "                       Redundant_comp             5  0.598257  0.529726   \n",
       "                       Ref_device                19  0.678424  0.718761   \n",
       "Absence_explanation    Absence_comp_sent        138  0.717844  0.717958   \n",
       "                       Absence_explanation      303  0.795023  0.833168   \n",
       "                       Inappropriate_register     7  0.845859  0.821223   \n",
       "                       Linking_device             2  0.619409  0.619409   \n",
       "                       Redundant_comp             2  0.388840  0.388840   \n",
       "                       Ref_device                 6  0.738420  0.810030   \n",
       "Inappropriate_register Absence_comp_sent         16  0.752530  0.794615   \n",
       "                       Absence_explanation       17  0.662896  0.642087   \n",
       "                       Inappropriate_register   261  0.898834  0.965107   \n",
       "                       Linking_device            12  0.803717  0.893086   \n",
       "                       Redundant_comp            14  0.669322  0.722338   \n",
       "                       Ref_device                 7  0.674665  0.649228   \n",
       "Linking_device         Absence_comp_sent         21  0.739925  0.800586   \n",
       "                       Absence_explanation        5  0.423147  0.369488   \n",
       "                       Inappropriate_register     1  0.655111  0.655111   \n",
       "                       Linking_device           126  0.887860  0.939405   \n",
       "                       Redundant_comp             3  0.576013  0.510127   \n",
       "                       Ref_device                 6  0.697222  0.669136   \n",
       "Redundant_comp         Absence_comp_sent         13  0.758409  0.735978   \n",
       "                       Absence_explanation       11  0.612024  0.572827   \n",
       "                       Inappropriate_register     6  0.703216  0.733063   \n",
       "                       Linking_device            11  0.784275  0.807273   \n",
       "                       Redundant_comp            64  0.831730  0.873106   \n",
       "                       Ref_device                 6  0.752290  0.766007   \n",
       "Ref_device             Absence_comp_sent         36  0.697105  0.714827   \n",
       "                       Absence_explanation       31  0.708049  0.765701   \n",
       "                       Inappropriate_register    19  0.746084  0.810427   \n",
       "                       Linking_device             9  0.768634  0.894713   \n",
       "                       Redundant_comp             4  0.720760  0.737232   \n",
       "                       Ref_device               180  0.897634  0.967676   \n",
       "\n",
       "                                                         \n",
       "                                                    var  \n",
       "target                 pred                              \n",
       "Absence_comp_sent      Absence_comp_sent       0.020321  \n",
       "                       Absence_explanation     0.021573  \n",
       "                       Inappropriate_register  0.006976  \n",
       "                       Linking_device          0.044295  \n",
       "                       Redundant_comp          0.019625  \n",
       "                       Ref_device              0.026592  \n",
       "Absence_explanation    Absence_comp_sent       0.024319  \n",
       "                       Absence_explanation     0.020996  \n",
       "                       Inappropriate_register  0.002365  \n",
       "                       Linking_device          0.003719  \n",
       "                       Redundant_comp          0.015449  \n",
       "                       Ref_device              0.036698  \n",
       "Inappropriate_register Absence_comp_sent       0.035879  \n",
       "                       Absence_explanation     0.029293  \n",
       "                       Inappropriate_register  0.014474  \n",
       "                       Linking_device          0.034275  \n",
       "                       Redundant_comp          0.031962  \n",
       "                       Ref_device              0.020400  \n",
       "Linking_device         Absence_comp_sent       0.034103  \n",
       "                       Absence_explanation     0.007329  \n",
       "                       Inappropriate_register       NaN  \n",
       "                       Linking_device          0.017513  \n",
       "                       Redundant_comp          0.063188  \n",
       "                       Ref_device              0.058316  \n",
       "Redundant_comp         Absence_comp_sent       0.030066  \n",
       "                       Absence_explanation     0.029501  \n",
       "                       Inappropriate_register  0.030712  \n",
       "                       Linking_device          0.024518  \n",
       "                       Redundant_comp          0.015401  \n",
       "                       Ref_device              0.009419  \n",
       "Ref_device             Absence_comp_sent       0.042000  \n",
       "                       Absence_explanation     0.033747  \n",
       "                       Inappropriate_register  0.013523  \n",
       "                       Linking_device          0.054615  \n",
       "                       Redundant_comp          0.019419  \n",
       "                       Ref_device              0.019411  "
      ]
     },
     "execution_count": 5,
     "metadata": {},
     "output_type": "execute_result"
    }
   ],
   "source": [
    "df.groupby(['target', 'pred']).agg({'error':'count', 'score':['mean', 'median', 'var']})"
   ]
  },
  {
   "cell_type": "code",
   "execution_count": 32,
   "id": "cd20dfd5",
   "metadata": {},
   "outputs": [],
   "source": [
    "def prec_rec_f1(cl):\n",
    "    \n",
    "#     df_ = df[df['score'] > certain_treshold]\n",
    "    \n",
    "    TP = len(df[(df['target'] == cl) & (df['pred'] == cl)])\n",
    "    FP = len(df[(df['target'] != cl) & (df['pred'] == cl)])\n",
    "    TN = len(df[(df['target'] != cl) & (df['pred'] != cl)])\n",
    "    FN = len(df[(df['target'] == cl) & (df['pred'] != cl)])\n",
    "    precision = TP / (TP + FP)\n",
    "    recall = TP / (TP + FN)\n",
    "    f1 = TP / (TP + .5*(FP+FN))\n",
    "    f05 = 1.25 * TP / (1.25 * TP + 0.25 * FN + FP)\n",
    "    mean_score = mean(df[df['target'] == cl]['score'])\n",
    "    \n",
    "    try:\n",
    "        return precision, recall, f1, f05, mean_score\n",
    "    except Exception:\n",
    "        return None, None, None, None, None"
   ]
  },
  {
   "cell_type": "code",
   "execution_count": 33,
   "id": "de4d9b0a",
   "metadata": {},
   "outputs": [
    {
     "data": {
      "text/html": [
       "<div>\n",
       "<style scoped>\n",
       "    .dataframe tbody tr th:only-of-type {\n",
       "        vertical-align: middle;\n",
       "    }\n",
       "\n",
       "    .dataframe tbody tr th {\n",
       "        vertical-align: top;\n",
       "    }\n",
       "\n",
       "    .dataframe thead th {\n",
       "        text-align: right;\n",
       "    }\n",
       "</style>\n",
       "<table border=\"1\" class=\"dataframe\">\n",
       "  <thead>\n",
       "    <tr style=\"text-align: right;\">\n",
       "      <th></th>\n",
       "      <th>class</th>\n",
       "      <th>precision</th>\n",
       "      <th>recall</th>\n",
       "      <th>F1</th>\n",
       "      <th>F0.5</th>\n",
       "      <th>mean score</th>\n",
       "    </tr>\n",
       "  </thead>\n",
       "  <tbody>\n",
       "    <tr>\n",
       "      <th>0</th>\n",
       "      <td>Linking_device</td>\n",
       "      <td>0.711864</td>\n",
       "      <td>0.777778</td>\n",
       "      <td>0.743363</td>\n",
       "      <td>0.724138</td>\n",
       "      <td>0.840068</td>\n",
       "    </tr>\n",
       "    <tr>\n",
       "      <th>1</th>\n",
       "      <td>Redundant_comp</td>\n",
       "      <td>0.695652</td>\n",
       "      <td>0.576577</td>\n",
       "      <td>0.630542</td>\n",
       "      <td>0.668058</td>\n",
       "      <td>0.785427</td>\n",
       "    </tr>\n",
       "    <tr>\n",
       "      <th>2</th>\n",
       "      <td>Inappropriate_register</td>\n",
       "      <td>0.872910</td>\n",
       "      <td>0.798165</td>\n",
       "      <td>0.833866</td>\n",
       "      <td>0.856861</td>\n",
       "      <td>0.861294</td>\n",
       "    </tr>\n",
       "    <tr>\n",
       "      <th>3</th>\n",
       "      <td>Ref_device</td>\n",
       "      <td>0.803571</td>\n",
       "      <td>0.645161</td>\n",
       "      <td>0.715706</td>\n",
       "      <td>0.765957</td>\n",
       "      <td>0.833677</td>\n",
       "    </tr>\n",
       "    <tr>\n",
       "      <th>4</th>\n",
       "      <td>Absence_comp_sent</td>\n",
       "      <td>0.719298</td>\n",
       "      <td>0.774629</td>\n",
       "      <td>0.745939</td>\n",
       "      <td>0.729723</td>\n",
       "      <td>0.824976</td>\n",
       "    </tr>\n",
       "    <tr>\n",
       "      <th>5</th>\n",
       "      <td>Absence_explanation</td>\n",
       "      <td>0.620902</td>\n",
       "      <td>0.661572</td>\n",
       "      <td>0.640592</td>\n",
       "      <td>0.628631</td>\n",
       "      <td>0.769263</td>\n",
       "    </tr>\n",
       "  </tbody>\n",
       "</table>\n",
       "</div>"
      ],
      "text/plain": [
       "                    class  precision    recall        F1      F0.5  mean score\n",
       "0          Linking_device   0.711864  0.777778  0.743363  0.724138    0.840068\n",
       "1          Redundant_comp   0.695652  0.576577  0.630542  0.668058    0.785427\n",
       "2  Inappropriate_register   0.872910  0.798165  0.833866  0.856861    0.861294\n",
       "3              Ref_device   0.803571  0.645161  0.715706  0.765957    0.833677\n",
       "4       Absence_comp_sent   0.719298  0.774629  0.745939  0.729723    0.824976\n",
       "5     Absence_explanation   0.620902  0.661572  0.640592  0.628631    0.769263"
      ]
     },
     "execution_count": 33,
     "metadata": {},
     "output_type": "execute_result"
    }
   ],
   "source": [
    "classes = set(df['target'].tolist())\n",
    "\n",
    "pr, rec, f1, f05, means = [], [], [], [], []\n",
    "for cl in classes:\n",
    "        m1, m2, m3, m4, mean_score = prec_rec_f1(cl)\n",
    "        pr.append(m1)\n",
    "        rec.append(m2)\n",
    "        f1.append(m3)\n",
    "        f05.append(m4)\n",
    "        means.append(mean_score)\n",
    "    \n",
    "metrics = pd.DataFrame(data = list(zip(classes, pr, rec, f1, f05, means)), columns=['class', 'precision', 'recall', 'F1', 'F0.5', 'mean score'])\n",
    "metrics"
   ]
  },
  {
   "cell_type": "code",
   "execution_count": 55,
   "id": "1776365b",
   "metadata": {},
   "outputs": [
    {
     "data": {
      "text/plain": [
       "Counter({'Absence_comp_sent': 741,\n",
       "         'Absence_explanation': 458,\n",
       "         'Inappropriate_register': 327,\n",
       "         'Linking_device': 162,\n",
       "         'Redundant_comp': 111,\n",
       "         'Ref_device': 279})"
      ]
     },
     "execution_count": 55,
     "metadata": {},
     "output_type": "execute_result"
    }
   ],
   "source": [
    "from collections import Counter\n",
    "Counter(df['target'].tolist())"
   ]
  },
  {
   "cell_type": "code",
   "execution_count": 56,
   "id": "62d451a6",
   "metadata": {},
   "outputs": [
    {
     "name": "stdout",
     "output_type": "stream",
     "text": [
      "weighted F0.5 0.728584291822883\n",
      "micro F0.5 0.7256977863330125\n",
      "macro F0.5 0.728894808978449\n"
     ]
    }
   ],
   "source": [
    "from sklearn.metrics import fbeta_score\n",
    "\n",
    "for mode in ['weighted', 'micro', 'macro']:\n",
    "    print(f'{mode} F0.5', \n",
    "          fbeta_score(df['target'],\n",
    "                      df['pred'], \n",
    "                      beta=0.5, \n",
    "                      average=mode))"
   ]
  },
  {
   "cell_type": "code",
   "execution_count": 11,
   "id": "b79b28f3",
   "metadata": {},
   "outputs": [
    {
     "data": {
      "image/png": "[encoded data removed]",
      "text/plain": [
       "<Figure size 1440x2880 with 6 Axes>"
      ]
     },
     "metadata": {
      "needs_background": "light"
     },
     "output_type": "display_data"
    }
   ],
   "source": [
    "tags = ['Absence_comp_sent', 'Absence_explanation', \n",
    "        'Inappropriate_register', \n",
    "        'Linking_device', 'Redundant_comp', \n",
    "        'Ref_device']\n",
    "fig, ax = plt.subplots(len(tags), figsize=(20,40))\n",
    "for n, tag in enumerate(tags):\n",
    "    sub = df.groupby(['target'])\n",
    "    labels = sorted(set(sub.get_group(tag)['pred'].tolist()))\n",
    "#     print(labels)\n",
    "    bp = df[df['target'] == tag].boxplot(column='score', by=['target', 'pred'], \n",
    "                                         ax=ax[n], color='r')\n",
    "    ax[n].set_title(tag)\n",
    "    ax[n].set_xticks(range(1, len(labels)+1), labels=labels)\n",
    "    ax[n].set_xlabel('')\n",
    "    \n",
    "fig.suptitle('')\n",
    "plt.show()"
   ]
  },
  {
   "cell_type": "markdown",
   "id": "2e63a860",
   "metadata": {},
   "source": [
    "# GRAMMAR"
   ]
  },
  {
   "cell_type": "code",
   "execution_count": 46,
   "id": "05e1c633",
   "metadata": {},
   "outputs": [],
   "source": [
    "path_to_model = ...\n",
    "tokenizer = RobertaTokenizerFast.from_pretrained(path_to_model)\n",
    "train = pickle.load(open('split_train_gram_eo.pickle', 'rb'))\n",
    "data = pd.DataFrame(train, columns=['text', 'tag'])\n",
    "id2label = {\n",
    "    0: \"Verb_pattern\",\n",
    "    1: \"Confusion_of_structures\",\n",
    "    2: \"Voice\",\n",
    "    3: \"Comparison_degree\",\n",
    "    4: \"Formational_affixes\",\n",
    "    5: \"Prepositions\",\n",
    "    6: \"Category_confusion\",\n",
    "    7: \"Agreement_errors\",\n",
    "    8: \"Numerals\",\n",
    "    9: \"Tense_form\",\n",
    "    10: \"Relative_clause\",\n",
    "  }\n",
    "label2id = {n:tag for tag, n in id2label.items()}"
   ]
  },
  {
   "cell_type": "code",
   "execution_count": 47,
   "id": "0416755f",
   "metadata": {},
   "outputs": [],
   "source": [
    "prediction = TextClassificationPipeline(\n",
    "    model=RobertaForSequenceClassification.from_pretrained(path_to_model),\n",
    "    tokenizer=tokenizer,\n",
    ")"
   ]
  },
  {
   "cell_type": "code",
   "execution_count": 49,
   "id": "f99ceb6e",
   "metadata": {},
   "outputs": [
    {
     "data": {
      "application/vnd.jupyter.widget-view+json": {
       "model_id": "",
       "version_major": 2,
       "version_minor": 0
      },
      "text/plain": [
       "Stringifying the column:   0%|          | 0/20767 [00:00<?, ? examples/s]"
      ]
     },
     "metadata": {},
     "output_type": "display_data"
    },
    {
     "data": {
      "application/vnd.jupyter.widget-view+json": {
       "model_id": "",
       "version_major": 2,
       "version_minor": 0
      },
      "text/plain": [
       "Casting to class labels:   0%|          | 0/20767 [00:00<?, ? examples/s]"
      ]
     },
     "metadata": {},
     "output_type": "display_data"
    }
   ],
   "source": [
    "data = pd.DataFrame(train, columns=['text', 'label'])\n",
    "data['tag'] = data.apply(lambda x: id2label[x['label']], axis=1)\n",
    "dataset = Dataset.from_pandas(data[['text', 'label', 'tag']]).class_encode_column('label')\n",
    "dataset = dataset.train_test_split(test_size=0.2, seed=42)\n",
    "# len(dataset['train']), len(dataset['test'])\n",
    "df = dataset['test'].to_pandas()"
   ]
  },
  {
   "cell_type": "markdown",
   "id": "0ee292e7",
   "metadata": {},
   "source": [
    "In the original Grammar model, there's an issue where the id2label does not match actual values. The following part creates a dictionary that will match the predicted labels to their actual values. If the model is trained from anew, however, there is no need for the dictionary."
   ]
  },
  {
   "cell_type": "code",
   "execution_count": 50,
   "id": "c82a4c19",
   "metadata": {},
   "outputs": [
    {
     "name": "stdout",
     "output_type": "stream",
     "text": [
      "Verb_pattern 265\n",
      "Confusion_of_structures 104\n",
      "Voice 196\n",
      "Comparison_degree 157\n",
      "Formational_affixes 327\n",
      "Prepositions 969\n",
      "Category_confusion 592\n",
      "Agreement_errors 854\n",
      "Numerals 286\n",
      "Tense_form 237\n",
      "Relative_clause 167\n"
     ]
    }
   ],
   "source": [
    "errors = dict()\n",
    "\n",
    "for i in id2label.keys():\n",
    "    print(id2label[i], end=' ')\n",
    "    sents = df.loc[df['tag'] == id2label[i]]['text'].tolist()\n",
    "    print(len(sents))\n",
    "    errors[id2label[i]] = sents"
   ]
  },
  {
   "cell_type": "code",
   "execution_count": 51,
   "id": "a95459ee",
   "metadata": {},
   "outputs": [
    {
     "name": "stdout",
     "output_type": "stream",
     "text": [
      "Verb_pattern\n",
      "Verb_pattern \n",
      "\n",
      "Confusion_of_structures\n",
      "Confusion_of_structures \n",
      "\n",
      "Comparison_degree\n",
      "Voice \n",
      "\n",
      "Formational_affixes\n",
      "Comparison_degree \n",
      "\n",
      "Prepositions\n",
      "Formational_affixes \n",
      "\n",
      "Category_confusion\n",
      "Prepositions \n",
      "\n",
      "Agreement_errors\n",
      "Category_confusion \n",
      "\n",
      "Numerals\n",
      "Agreement_errors \n",
      "\n",
      "Tense_form\n",
      "Numerals \n",
      "\n",
      "Numerals\n",
      "Tense_form \n",
      "\n",
      "Voice\n",
      "Relative_clause \n",
      "\n"
     ]
    }
   ],
   "source": [
    "real = {}\n",
    "for k, l in errors.items():\n",
    "    l = [pr['label'] for pr in prediction(l[:30])]\n",
    "    mode = max(set(l), key=l.count)\n",
    "    print(mode)\n",
    "    print(k, '\\n')\n",
    "    real[mode] = k"
   ]
  },
  {
   "cell_type": "code",
   "execution_count": 54,
   "id": "e2621940",
   "metadata": {},
   "outputs": [
    {
     "name": "stdout",
     "output_type": "stream",
     "text": [
      "Agreement_errors not in values\n",
      "Relative_clause not in keys\n"
     ]
    }
   ],
   "source": [
    "for i in errors.keys():\n",
    "    if i not in real.keys():\n",
    "        print(f'{i} not in keys')\n",
    "    if i not in real.values():\n",
    "        print(f'{i} not in values')"
   ]
  },
  {
   "cell_type": "code",
   "execution_count": 55,
   "id": "17a6c3c2",
   "metadata": {},
   "outputs": [],
   "source": [
    "real['Relative_clause'] = 'Tense_form'\n",
    "real['Numerals'] = 'Agreement_errors'"
   ]
  },
  {
   "cell_type": "code",
   "execution_count": 56,
   "id": "f95a5935",
   "metadata": {},
   "outputs": [],
   "source": [
    "assert len(real) == len(label2id)\n",
    "assert len(set(real.keys())) == len(real.keys())\n",
    "assert len(set(real.values())) == len(real.values())\n",
    "assert set(real.values()) == set(real.keys())"
   ]
  },
  {
   "cell_type": "code",
   "execution_count": 57,
   "id": "99d1d0c5",
   "metadata": {},
   "outputs": [
    {
     "data": {
      "text/plain": [
       "('Numerals', 'Agreement_errors')"
      ]
     },
     "execution_count": 57,
     "metadata": {},
     "output_type": "execute_result"
    }
   ],
   "source": [
    "pr = prediction('do → does')[0]\n",
    "pr['label'], real[pr['label']]"
   ]
  },
  {
   "cell_type": "code",
   "execution_count": 295,
   "id": "253213ea",
   "metadata": {},
   "outputs": [
    {
     "data": {
      "text/plain": [
       "{'Verb_pattern': 'Verb_pattern',\n",
       " 'Confusion_of_structures': 'Confusion_of_structures',\n",
       " 'Comparison_degree': 'Voice',\n",
       " 'Formational_affixes': 'Comparison_degree',\n",
       " 'Prepositions': 'Formational_affixes',\n",
       " 'Category_confusion': 'Prepositions',\n",
       " 'Agreement_errors': 'Category_confusion',\n",
       " 'Numerals': 'Agreement_errors',\n",
       " 'Tense_form': 'Numerals',\n",
       " 'Voice': 'Relative_clause',\n",
       " 'Relative_clause': 'Tense_form'}"
      ]
     },
     "execution_count": 295,
     "metadata": {},
     "output_type": "execute_result"
    }
   ],
   "source": [
    "real"
   ]
  },
  {
   "cell_type": "markdown",
   "id": "d133d869",
   "metadata": {},
   "source": [
    "Now we can proceed with the prediction."
   ]
  },
  {
   "cell_type": "code",
   "execution_count": 58,
   "id": "a350e351",
   "metadata": {
    "scrolled": true
   },
   "outputs": [
    {
     "data": {
      "application/vnd.jupyter.widget-view+json": {
       "model_id": "8c3c9b4e0ab2476f8c7d1403eaf52fbc",
       "version_major": 2,
       "version_minor": 0
      },
      "text/plain": [
       "  0%|          | 0/11 [00:00<?, ?it/s]"
      ]
     },
     "metadata": {},
     "output_type": "display_data"
    },
    {
     "data": {
      "application/vnd.jupyter.widget-view+json": {
       "model_id": "be232b26423442ea9c25f88811b40de6",
       "version_major": 2,
       "version_minor": 0
      },
      "text/plain": [
       "  0%|          | 0/265 [00:00<?, ?it/s]"
      ]
     },
     "metadata": {},
     "output_type": "display_data"
    },
    {
     "name": "stdout",
     "output_type": "stream",
     "text": [
      "identified correctly in Verb_pattern: 126/137, 91.97080291970804%, uncertain 128, total 265\n"
     ]
    },
    {
     "data": {
      "application/vnd.jupyter.widget-view+json": {
       "model_id": "27ad7b729ec942a2b3a4c669df57a7bd",
       "version_major": 2,
       "version_minor": 0
      },
      "text/plain": [
       "  0%|          | 0/104 [00:00<?, ?it/s]"
      ]
     },
     "metadata": {},
     "output_type": "display_data"
    },
    {
     "name": "stdout",
     "output_type": "stream",
     "text": [
      "identified correctly in Confusion_of_structures: 0/12, 0.0%, uncertain 92, total 104\n"
     ]
    },
    {
     "data": {
      "application/vnd.jupyter.widget-view+json": {
       "model_id": "f3a7bd3d9fa24639a11332345ed9ef6a",
       "version_major": 2,
       "version_minor": 0
      },
      "text/plain": [
       "  0%|          | 0/196 [00:00<?, ?it/s]"
      ]
     },
     "metadata": {},
     "output_type": "display_data"
    },
    {
     "name": "stdout",
     "output_type": "stream",
     "text": [
      "identified correctly in Voice: 5/8, 62.5%, uncertain 188, total 196\n"
     ]
    },
    {
     "data": {
      "application/vnd.jupyter.widget-view+json": {
       "model_id": "6ce31a1c161343e5a39bcd446c46a101",
       "version_major": 2,
       "version_minor": 0
      },
      "text/plain": [
       "  0%|          | 0/157 [00:00<?, ?it/s]"
      ]
     },
     "metadata": {},
     "output_type": "display_data"
    },
    {
     "name": "stdout",
     "output_type": "stream",
     "text": [
      "identified correctly in Comparison_degree: 142/142, 100.0%, uncertain 15, total 157\n"
     ]
    },
    {
     "data": {
      "application/vnd.jupyter.widget-view+json": {
       "model_id": "7ac43f6b8413468f8e79ee0ef2c09b27",
       "version_major": 2,
       "version_minor": 0
      },
      "text/plain": [
       "  0%|          | 0/327 [00:00<?, ?it/s]"
      ]
     },
     "metadata": {},
     "output_type": "display_data"
    },
    {
     "name": "stdout",
     "output_type": "stream",
     "text": [
      "identified correctly in Formational_affixes: 87/116, 75.0%, uncertain 211, total 327\n"
     ]
    },
    {
     "data": {
      "application/vnd.jupyter.widget-view+json": {
       "model_id": "7471634ea61645a7b56268c90e8f415e",
       "version_major": 2,
       "version_minor": 0
      },
      "text/plain": [
       "  0%|          | 0/969 [00:00<?, ?it/s]"
      ]
     },
     "metadata": {},
     "output_type": "display_data"
    },
    {
     "name": "stdout",
     "output_type": "stream",
     "text": [
      "identified correctly in Prepositions: 882/896, 98.4375%, uncertain 73, total 969\n"
     ]
    },
    {
     "data": {
      "application/vnd.jupyter.widget-view+json": {
       "model_id": "821d32dbf1f841afb6729589f39d0d66",
       "version_major": 2,
       "version_minor": 0
      },
      "text/plain": [
       "  0%|          | 0/592 [00:00<?, ?it/s]"
      ]
     },
     "metadata": {},
     "output_type": "display_data"
    },
    {
     "name": "stdout",
     "output_type": "stream",
     "text": [
      "identified correctly in Category_confusion: 218/245, 88.9795918367347%, uncertain 347, total 592\n"
     ]
    },
    {
     "data": {
      "application/vnd.jupyter.widget-view+json": {
       "model_id": "691728f53b6549c8ab86fb483efafb65",
       "version_major": 2,
       "version_minor": 0
      },
      "text/plain": [
       "  0%|          | 0/854 [00:00<?, ?it/s]"
      ]
     },
     "metadata": {},
     "output_type": "display_data"
    },
    {
     "name": "stdout",
     "output_type": "stream",
     "text": [
      "identified correctly in Agreement_errors: 696/700, 99.42857142857143%, uncertain 154, total 854\n"
     ]
    },
    {
     "data": {
      "application/vnd.jupyter.widget-view+json": {
       "model_id": "c0013ad775cf444ca1c55e9bc634d357",
       "version_major": 2,
       "version_minor": 0
      },
      "text/plain": [
       "  0%|          | 0/286 [00:00<?, ?it/s]"
      ]
     },
     "metadata": {},
     "output_type": "display_data"
    },
    {
     "name": "stdout",
     "output_type": "stream",
     "text": [
      "identified correctly in Numerals: 187/191, 97.90575916230367%, uncertain 95, total 286\n"
     ]
    },
    {
     "data": {
      "application/vnd.jupyter.widget-view+json": {
       "model_id": "8cb72dabe8bb4504a582002a0c36f980",
       "version_major": 2,
       "version_minor": 0
      },
      "text/plain": [
       "  0%|          | 0/237 [00:00<?, ?it/s]"
      ]
     },
     "metadata": {},
     "output_type": "display_data"
    },
    {
     "name": "stdout",
     "output_type": "stream",
     "text": [
      "identified correctly in Tense_form: 0/70, 0.0%, uncertain 167, total 237\n"
     ]
    },
    {
     "data": {
      "application/vnd.jupyter.widget-view+json": {
       "model_id": "2ecfa538a00f46d9acce234d8961d393",
       "version_major": 2,
       "version_minor": 0
      },
      "text/plain": [
       "  0%|          | 0/167 [00:00<?, ?it/s]"
      ]
     },
     "metadata": {},
     "output_type": "display_data"
    },
    {
     "name": "stdout",
     "output_type": "stream",
     "text": [
      "identified correctly in Relative_clause: 153/153, 100.0%, uncertain 14, total 167\n",
      "in total: 2496 / 0.6008666345690901 correct, 174 / 0.04188733750601829 wrong, 1484 / 0.3572460279248917 uncertain\n"
     ]
    }
   ],
   "source": [
    "examples = []\n",
    "corr, wrong, uncertain = 0, 0, 0\n",
    "\n",
    "for error, sents in tqdm(errors.items()):\n",
    "    class_wrong, class_corr, class_uncertain = 0, 0, 0\n",
    "    for sent in tqdm(sents):\n",
    "        pr = prediction(sent)[0]\n",
    "        examples.append((sent, error, real[pr['label']], pr['score']))\n",
    "        if pr['score'] > 0.85:\n",
    "            if real[pr['label']] == error:\n",
    "                class_corr += 1\n",
    "            else:\n",
    "                class_wrong += 1\n",
    "        else:\n",
    "            class_uncertain += 1\n",
    "            \n",
    "            \n",
    "    corr += class_corr\n",
    "    uncertain += class_uncertain\n",
    "    wrong += class_wrong\n",
    "        \n",
    "    print(f'identified correctly in {error}: {class_corr}/{class_corr+class_wrong}, {class_corr/(max(class_corr+class_wrong, 1))*100}%, uncertain {class_uncertain}, total {class_corr+class_wrong+class_uncertain}')\n",
    "    \n",
    "print(f'in total: {corr} / {corr/(corr+wrong+uncertain)} correct, {wrong} / {wrong/(corr+wrong+uncertain)} wrong, {uncertain} / {uncertain/(corr+wrong+uncertain)} uncertain')"
   ]
  },
  {
   "cell_type": "code",
   "execution_count": 59,
   "id": "f9f81881",
   "metadata": {},
   "outputs": [
    {
     "data": {
      "text/html": [
       "<div>\n",
       "<style scoped>\n",
       "    .dataframe tbody tr th:only-of-type {\n",
       "        vertical-align: middle;\n",
       "    }\n",
       "\n",
       "    .dataframe tbody tr th {\n",
       "        vertical-align: top;\n",
       "    }\n",
       "\n",
       "    .dataframe thead th {\n",
       "        text-align: right;\n",
       "    }\n",
       "</style>\n",
       "<table border=\"1\" class=\"dataframe\">\n",
       "  <thead>\n",
       "    <tr style=\"text-align: right;\">\n",
       "      <th></th>\n",
       "      <th>error</th>\n",
       "      <th>target</th>\n",
       "      <th>pred</th>\n",
       "      <th>score</th>\n",
       "    </tr>\n",
       "  </thead>\n",
       "  <tbody>\n",
       "    <tr>\n",
       "      <th>0</th>\n",
       "      <td>considered → are considered to be</td>\n",
       "      <td>Verb_pattern</td>\n",
       "      <td>Voice</td>\n",
       "      <td>0.846305</td>\n",
       "    </tr>\n",
       "    <tr>\n",
       "      <th>1</th>\n",
       "      <td>offer to many people works, and → offer jobs t...</td>\n",
       "      <td>Verb_pattern</td>\n",
       "      <td>Verb_pattern</td>\n",
       "      <td>0.503557</td>\n",
       "    </tr>\n",
       "    <tr>\n",
       "      <th>2</th>\n",
       "      <td>listen → listen to</td>\n",
       "      <td>Verb_pattern</td>\n",
       "      <td>Verb_pattern</td>\n",
       "      <td>0.911679</td>\n",
       "    </tr>\n",
       "    <tr>\n",
       "      <th>3</th>\n",
       "      <td>taught to → taught</td>\n",
       "      <td>Verb_pattern</td>\n",
       "      <td>Verb_pattern</td>\n",
       "      <td>0.855675</td>\n",
       "    </tr>\n",
       "    <tr>\n",
       "      <th>4</th>\n",
       "      <td>spend all their time by → spend all their time</td>\n",
       "      <td>Verb_pattern</td>\n",
       "      <td>Verb_pattern</td>\n",
       "      <td>0.835138</td>\n",
       "    </tr>\n",
       "  </tbody>\n",
       "</table>\n",
       "</div>"
      ],
      "text/plain": [
       "                                               error        target  \\\n",
       "0                  considered → are considered to be  Verb_pattern   \n",
       "1  offer to many people works, and → offer jobs t...  Verb_pattern   \n",
       "2                                 listen → listen to  Verb_pattern   \n",
       "3                                 taught to → taught  Verb_pattern   \n",
       "4     spend all their time by → spend all their time  Verb_pattern   \n",
       "\n",
       "           pred     score  \n",
       "0         Voice  0.846305  \n",
       "1  Verb_pattern  0.503557  \n",
       "2  Verb_pattern  0.911679  \n",
       "3  Verb_pattern  0.855675  \n",
       "4  Verb_pattern  0.835138  "
      ]
     },
     "execution_count": 59,
     "metadata": {},
     "output_type": "execute_result"
    }
   ],
   "source": [
    "df = pd.DataFrame(examples, columns=['error', 'target', 'pred', 'score'])\n",
    "df.head()"
   ]
  },
  {
   "cell_type": "code",
   "execution_count": 62,
   "id": "b50cba3b",
   "metadata": {},
   "outputs": [],
   "source": [
    "df.to_excel('errors_gram_pred.xlsx')"
   ]
  },
  {
   "cell_type": "code",
   "execution_count": 8,
   "id": "458b74bc",
   "metadata": {},
   "outputs": [],
   "source": [
    "df = pd.read_excel('errors_gram_pred.xlsx')"
   ]
  },
  {
   "cell_type": "code",
   "execution_count": 46,
   "id": "0c854948",
   "metadata": {},
   "outputs": [
    {
     "data": {
      "text/html": [
       "<div>\n",
       "<style scoped>\n",
       "    .dataframe tbody tr th:only-of-type {\n",
       "        vertical-align: middle;\n",
       "    }\n",
       "\n",
       "    .dataframe tbody tr th {\n",
       "        vertical-align: top;\n",
       "    }\n",
       "\n",
       "    .dataframe thead th {\n",
       "        text-align: right;\n",
       "    }\n",
       "</style>\n",
       "<table border=\"1\" class=\"dataframe\">\n",
       "  <thead>\n",
       "    <tr style=\"text-align: right;\">\n",
       "      <th></th>\n",
       "      <th>class</th>\n",
       "      <th>precision</th>\n",
       "      <th>recall</th>\n",
       "      <th>F1</th>\n",
       "      <th>F0.5</th>\n",
       "      <th>mean score</th>\n",
       "    </tr>\n",
       "  </thead>\n",
       "  <tbody>\n",
       "    <tr>\n",
       "      <th>0</th>\n",
       "      <td>Confusion_of_structures</td>\n",
       "      <td>0.686275</td>\n",
       "      <td>0.336538</td>\n",
       "      <td>0.451613</td>\n",
       "      <td>0.568182</td>\n",
       "      <td>0.603809</td>\n",
       "    </tr>\n",
       "    <tr>\n",
       "      <th>1</th>\n",
       "      <td>Agreement_errors</td>\n",
       "      <td>0.802419</td>\n",
       "      <td>0.932084</td>\n",
       "      <td>0.862405</td>\n",
       "      <td>0.825384</td>\n",
       "      <td>0.860177</td>\n",
       "    </tr>\n",
       "    <tr>\n",
       "      <th>2</th>\n",
       "      <td>Relative_clause</td>\n",
       "      <td>0.932203</td>\n",
       "      <td>0.988024</td>\n",
       "      <td>0.959302</td>\n",
       "      <td>0.942857</td>\n",
       "      <td>0.920752</td>\n",
       "    </tr>\n",
       "    <tr>\n",
       "      <th>3</th>\n",
       "      <td>Tense_form</td>\n",
       "      <td>0.571429</td>\n",
       "      <td>0.337553</td>\n",
       "      <td>0.424403</td>\n",
       "      <td>0.501882</td>\n",
       "      <td>0.679332</td>\n",
       "    </tr>\n",
       "    <tr>\n",
       "      <th>4</th>\n",
       "      <td>Formational_affixes</td>\n",
       "      <td>0.793443</td>\n",
       "      <td>0.740061</td>\n",
       "      <td>0.765823</td>\n",
       "      <td>0.782159</td>\n",
       "      <td>0.764204</td>\n",
       "    </tr>\n",
       "    <tr>\n",
       "      <th>5</th>\n",
       "      <td>Category_confusion</td>\n",
       "      <td>0.766551</td>\n",
       "      <td>0.743243</td>\n",
       "      <td>0.754717</td>\n",
       "      <td>0.761773</td>\n",
       "      <td>0.764886</td>\n",
       "    </tr>\n",
       "    <tr>\n",
       "      <th>6</th>\n",
       "      <td>Numerals</td>\n",
       "      <td>0.935185</td>\n",
       "      <td>0.706294</td>\n",
       "      <td>0.804781</td>\n",
       "      <td>0.878261</td>\n",
       "      <td>0.802184</td>\n",
       "    </tr>\n",
       "    <tr>\n",
       "      <th>7</th>\n",
       "      <td>Voice</td>\n",
       "      <td>0.705128</td>\n",
       "      <td>0.841837</td>\n",
       "      <td>0.767442</td>\n",
       "      <td>0.728799</td>\n",
       "      <td>0.693070</td>\n",
       "    </tr>\n",
       "    <tr>\n",
       "      <th>8</th>\n",
       "      <td>Comparison_degree</td>\n",
       "      <td>0.858757</td>\n",
       "      <td>0.968153</td>\n",
       "      <td>0.910180</td>\n",
       "      <td>0.878613</td>\n",
       "      <td>0.889439</td>\n",
       "    </tr>\n",
       "    <tr>\n",
       "      <th>9</th>\n",
       "      <td>Prepositions</td>\n",
       "      <td>0.935976</td>\n",
       "      <td>0.950464</td>\n",
       "      <td>0.943164</td>\n",
       "      <td>0.938838</td>\n",
       "      <td>0.955854</td>\n",
       "    </tr>\n",
       "    <tr>\n",
       "      <th>10</th>\n",
       "      <td>Verb_pattern</td>\n",
       "      <td>0.733553</td>\n",
       "      <td>0.841509</td>\n",
       "      <td>0.783831</td>\n",
       "      <td>0.752870</td>\n",
       "      <td>0.795598</td>\n",
       "    </tr>\n",
       "  </tbody>\n",
       "</table>\n",
       "</div>"
      ],
      "text/plain": [
       "                      class  precision    recall        F1      F0.5  \\\n",
       "0   Confusion_of_structures   0.686275  0.336538  0.451613  0.568182   \n",
       "1          Agreement_errors   0.802419  0.932084  0.862405  0.825384   \n",
       "2           Relative_clause   0.932203  0.988024  0.959302  0.942857   \n",
       "3                Tense_form   0.571429  0.337553  0.424403  0.501882   \n",
       "4       Formational_affixes   0.793443  0.740061  0.765823  0.782159   \n",
       "5        Category_confusion   0.766551  0.743243  0.754717  0.761773   \n",
       "6                  Numerals   0.935185  0.706294  0.804781  0.878261   \n",
       "7                     Voice   0.705128  0.841837  0.767442  0.728799   \n",
       "8         Comparison_degree   0.858757  0.968153  0.910180  0.878613   \n",
       "9              Prepositions   0.935976  0.950464  0.943164  0.938838   \n",
       "10             Verb_pattern   0.733553  0.841509  0.783831  0.752870   \n",
       "\n",
       "    mean score  \n",
       "0     0.603809  \n",
       "1     0.860177  \n",
       "2     0.920752  \n",
       "3     0.679332  \n",
       "4     0.764204  \n",
       "5     0.764886  \n",
       "6     0.802184  \n",
       "7     0.693070  \n",
       "8     0.889439  \n",
       "9     0.955854  \n",
       "10    0.795598  "
      ]
     },
     "execution_count": 46,
     "metadata": {},
     "output_type": "execute_result"
    }
   ],
   "source": [
    "classes = set(df['target'].tolist())\n",
    "\n",
    "pr, rec, f1, f05, means = [], [], [], [], []\n",
    "for cl in classes:\n",
    "        m1, m2, m3, m4, mean_score = prec_rec_f1(cl)\n",
    "        pr.append(m1)\n",
    "        rec.append(m2)\n",
    "        f1.append(m3)\n",
    "        f05.append(m4)\n",
    "        means.append(mean_score)\n",
    "    \n",
    "metrics = pd.DataFrame(data = list(zip(classes, pr, rec, f1, f05, means)), columns=['class', 'precision', 'recall', 'F1', 'F0.5', 'mean score'])\n",
    "metrics"
   ]
  },
  {
   "cell_type": "code",
   "execution_count": 47,
   "id": "ecc99cc5",
   "metadata": {},
   "outputs": [
    {
     "data": {
      "text/plain": [
       "[('Prepositions', 969),\n",
       " ('Agreement_errors', 854),\n",
       " ('Category_confusion', 592),\n",
       " ('Formational_affixes', 327),\n",
       " ('Numerals', 286),\n",
       " ('Verb_pattern', 265),\n",
       " ('Tense_form', 237),\n",
       " ('Voice', 196),\n",
       " ('Relative_clause', 167),\n",
       " ('Comparison_degree', 157),\n",
       " ('Confusion_of_structures', 104)]"
      ]
     },
     "execution_count": 47,
     "metadata": {},
     "output_type": "execute_result"
    }
   ],
   "source": [
    "from collections import Counter\n",
    "Counter(df['target'].tolist()).most_common()"
   ]
  },
  {
   "cell_type": "code",
   "execution_count": 49,
   "id": "a469ef73",
   "metadata": {},
   "outputs": [
    {
     "name": "stdout",
     "output_type": "stream",
     "text": [
      "weighted F0.5 0.8156766997116393\n",
      "micro F0.5 0.8235435724602792\n",
      "macro F0.5 0.7781469385149132\n"
     ]
    }
   ],
   "source": [
    "from sklearn.metrics import fbeta_score\n",
    "\n",
    "for mode in ['weighted', 'micro', 'macro']:\n",
    "    print(f'{mode} F0.5', \n",
    "          fbeta_score(df['target'],\n",
    "                      df['pred'], \n",
    "                      beta=0.5, \n",
    "                      average=mode))"
   ]
  },
  {
   "cell_type": "code",
   "execution_count": 13,
   "id": "431fa673",
   "metadata": {},
   "outputs": [
    {
     "data": {
      "text/html": [
       "<div>\n",
       "<style scoped>\n",
       "    .dataframe tbody tr th:only-of-type {\n",
       "        vertical-align: middle;\n",
       "    }\n",
       "\n",
       "    .dataframe tbody tr th {\n",
       "        vertical-align: top;\n",
       "    }\n",
       "\n",
       "    .dataframe thead tr th {\n",
       "        text-align: left;\n",
       "    }\n",
       "\n",
       "    .dataframe thead tr:last-of-type th {\n",
       "        text-align: right;\n",
       "    }\n",
       "</style>\n",
       "<table border=\"1\" class=\"dataframe\">\n",
       "  <thead>\n",
       "    <tr>\n",
       "      <th></th>\n",
       "      <th></th>\n",
       "      <th>error</th>\n",
       "      <th colspan=\"3\" halign=\"left\">score</th>\n",
       "    </tr>\n",
       "    <tr>\n",
       "      <th></th>\n",
       "      <th></th>\n",
       "      <th>count</th>\n",
       "      <th>mean</th>\n",
       "      <th>median</th>\n",
       "      <th>var</th>\n",
       "    </tr>\n",
       "    <tr>\n",
       "      <th>target</th>\n",
       "      <th>pred</th>\n",
       "      <th></th>\n",
       "      <th></th>\n",
       "      <th></th>\n",
       "      <th></th>\n",
       "    </tr>\n",
       "  </thead>\n",
       "  <tbody>\n",
       "    <tr>\n",
       "      <th rowspan=\"5\" valign=\"top\">Agreement_errors</th>\n",
       "      <th>Agreement_errors</th>\n",
       "      <td>796</td>\n",
       "      <td>0.879122</td>\n",
       "      <td>0.919249</td>\n",
       "      <td>0.015611</td>\n",
       "    </tr>\n",
       "    <tr>\n",
       "      <th>Category_confusion</th>\n",
       "      <td>11</td>\n",
       "      <td>0.576773</td>\n",
       "      <td>0.513143</td>\n",
       "      <td>0.023203</td>\n",
       "    </tr>\n",
       "    <tr>\n",
       "      <th>Confusion_of_structures</th>\n",
       "      <td>5</td>\n",
       "      <td>0.495421</td>\n",
       "      <td>0.499939</td>\n",
       "      <td>0.002976</td>\n",
       "    </tr>\n",
       "    <tr>\n",
       "      <th>Numerals</th>\n",
       "      <td>6</td>\n",
       "      <td>0.654771</td>\n",
       "      <td>0.654373</td>\n",
       "      <td>0.014337</td>\n",
       "    </tr>\n",
       "    <tr>\n",
       "      <th>Prepositions</th>\n",
       "      <td>5</td>\n",
       "      <td>0.809266</td>\n",
       "      <td>0.817511</td>\n",
       "      <td>0.017657</td>\n",
       "    </tr>\n",
       "    <tr>\n",
       "      <th>...</th>\n",
       "      <th>...</th>\n",
       "      <td>...</td>\n",
       "      <td>...</td>\n",
       "      <td>...</td>\n",
       "      <td>...</td>\n",
       "    </tr>\n",
       "    <tr>\n",
       "      <th rowspan=\"5\" valign=\"top\">Voice</th>\n",
       "      <th>Confusion_of_structures</th>\n",
       "      <td>1</td>\n",
       "      <td>0.390626</td>\n",
       "      <td>0.390626</td>\n",
       "      <td>NaN</td>\n",
       "    </tr>\n",
       "    <tr>\n",
       "      <th>Formational_affixes</th>\n",
       "      <td>1</td>\n",
       "      <td>0.797244</td>\n",
       "      <td>0.797244</td>\n",
       "      <td>NaN</td>\n",
       "    </tr>\n",
       "    <tr>\n",
       "      <th>Tense_form</th>\n",
       "      <td>14</td>\n",
       "      <td>0.428463</td>\n",
       "      <td>0.409900</td>\n",
       "      <td>0.011087</td>\n",
       "    </tr>\n",
       "    <tr>\n",
       "      <th>Verb_pattern</th>\n",
       "      <td>2</td>\n",
       "      <td>0.726558</td>\n",
       "      <td>0.726558</td>\n",
       "      <td>0.001709</td>\n",
       "    </tr>\n",
       "    <tr>\n",
       "      <th>Voice</th>\n",
       "      <td>165</td>\n",
       "      <td>0.724447</td>\n",
       "      <td>0.784230</td>\n",
       "      <td>0.017661</td>\n",
       "    </tr>\n",
       "  </tbody>\n",
       "</table>\n",
       "<p>75 rows × 4 columns</p>\n",
       "</div>"
      ],
      "text/plain": [
       "                                         error     score                    \n",
       "                                         count      mean    median       var\n",
       "target           pred                                                       \n",
       "Agreement_errors Agreement_errors          796  0.879122  0.919249  0.015611\n",
       "                 Category_confusion         11  0.576773  0.513143  0.023203\n",
       "                 Confusion_of_structures     5  0.495421  0.499939  0.002976\n",
       "                 Numerals                    6  0.654771  0.654373  0.014337\n",
       "                 Prepositions                5  0.809266  0.817511  0.017657\n",
       "...                                        ...       ...       ...       ...\n",
       "Voice            Confusion_of_structures     1  0.390626  0.390626       NaN\n",
       "                 Formational_affixes         1  0.797244  0.797244       NaN\n",
       "                 Tense_form                 14  0.428463  0.409900  0.011087\n",
       "                 Verb_pattern                2  0.726558  0.726558  0.001709\n",
       "                 Voice                     165  0.724447  0.784230  0.017661\n",
       "\n",
       "[75 rows x 4 columns]"
      ]
     },
     "execution_count": 13,
     "metadata": {},
     "output_type": "execute_result"
    }
   ],
   "source": [
    "df.groupby(['target', 'pred']).agg({'error':'count', 'score':['mean', 'median', 'var']})"
   ]
  },
  {
   "cell_type": "code",
   "execution_count": 14,
   "id": "fc787694",
   "metadata": {},
   "outputs": [],
   "source": [
    "df = pd.read_excel('errors_gram_pred.xlsx', index_col=0)"
   ]
  },
  {
   "cell_type": "code",
   "execution_count": 21,
   "id": "9a8044f9",
   "metadata": {},
   "outputs": [
    {
     "data": {
      "image/png": "[encoded data removed]",
      "text/plain": [
       "<Figure size 1440x3600 with 11 Axes>"
      ]
     },
     "metadata": {
      "needs_background": "light"
     },
     "output_type": "display_data"
    }
   ],
   "source": [
    "tags = [\"Verb_pattern\", \"Confusion_of_structures\",\n",
    "        \"Voice\", \"Comparison_degree\", \"Formational_affixes\",\n",
    "        \"Prepositions\", \"Category_confusion\",\n",
    "        \"Agreement_errors\",\"Numerals\",\n",
    "        \"Tense_form\", \"Relative_clause\"]\n",
    "fig, ax = plt.subplots(len(tags), figsize=(20,50))\n",
    "for n, tag in enumerate(tags):\n",
    "    sub = df.groupby(['target'])\n",
    "    labels = sorted(set(sub.get_group(tag)['pred'].tolist()))\n",
    "#     print(labels)\n",
    "    bp = df[df['target'] == tag].boxplot(column='score', by=['target', 'pred'], \n",
    "                                         ax=ax[n], color='r')\n",
    "    ax[n].set_title(tag)\n",
    "    ax[n].set_xticks(range(1, len(labels)+1), labels=labels)\n",
    "    ax[n].set_xlabel('')\n",
    "    \n",
    "fig.suptitle('')\n",
    "plt.show()"
   ]
  },
  {
   "cell_type": "markdown",
   "id": "46681812",
   "metadata": {},
   "source": [
    "## LEXICAL"
   ]
  },
  {
   "cell_type": "code",
   "execution_count": 38,
   "id": "0673d74d",
   "metadata": {},
   "outputs": [],
   "source": [
    "path_to_model = ...\n",
    "tokenizer = RobertaTokenizerFast.from_pretrained(path_to_model)\n",
    "train = pickle.load(open('split_train_lexical_eo.pickle', 'rb'))\n",
    "data = pd.DataFrame(train, columns=['text', 'tag'])\n",
    "label2id = {'lex_item_choice': 0, 'lex_part_choice': 1}\n",
    "id2label = {0: 'lex_item_choice', 1: 'lex_part_choice'}"
   ]
  },
  {
   "cell_type": "code",
   "execution_count": 67,
   "id": "7c64b734",
   "metadata": {},
   "outputs": [],
   "source": [
    "prediction = TextClassificationPipeline(\n",
    "    model=RobertaForSequenceClassification.from_pretrained(path_to_model, num_labels=len(id2label), id2label=id2label, label2id=label2id),\n",
    "    tokenizer=tokenizer,\n",
    ")"
   ]
  },
  {
   "cell_type": "code",
   "execution_count": 79,
   "id": "3a4aacf4",
   "metadata": {},
   "outputs": [
    {
     "data": {
      "text/html": [
       "<div>\n",
       "<style scoped>\n",
       "    .dataframe tbody tr th:only-of-type {\n",
       "        vertical-align: middle;\n",
       "    }\n",
       "\n",
       "    .dataframe tbody tr th {\n",
       "        vertical-align: top;\n",
       "    }\n",
       "\n",
       "    .dataframe thead th {\n",
       "        text-align: right;\n",
       "    }\n",
       "</style>\n",
       "<table border=\"1\" class=\"dataframe\">\n",
       "  <thead>\n",
       "    <tr style=\"text-align: right;\">\n",
       "      <th></th>\n",
       "      <th>text</th>\n",
       "      <th>label</th>\n",
       "      <th>tag</th>\n",
       "    </tr>\n",
       "  </thead>\n",
       "  <tbody>\n",
       "    <tr>\n",
       "      <th>0</th>\n",
       "      <td>by → with</td>\n",
       "      <td>0</td>\n",
       "      <td>lex_item_choice</td>\n",
       "    </tr>\n",
       "    <tr>\n",
       "      <th>1</th>\n",
       "      <td>all of us → we all</td>\n",
       "      <td>0</td>\n",
       "      <td>lex_item_choice</td>\n",
       "    </tr>\n",
       "    <tr>\n",
       "      <th>2</th>\n",
       "      <td>made → accept</td>\n",
       "      <td>0</td>\n",
       "      <td>lex_item_choice</td>\n",
       "    </tr>\n",
       "    <tr>\n",
       "      <th>3</th>\n",
       "      <td>argument → reason</td>\n",
       "      <td>0</td>\n",
       "      <td>lex_item_choice</td>\n",
       "    </tr>\n",
       "    <tr>\n",
       "      <th>4</th>\n",
       "      <td>attendance → admissions</td>\n",
       "      <td>0</td>\n",
       "      <td>lex_item_choice</td>\n",
       "    </tr>\n",
       "    <tr>\n",
       "      <th>...</th>\n",
       "      <td>...</td>\n",
       "      <td>...</td>\n",
       "      <td>...</td>\n",
       "    </tr>\n",
       "    <tr>\n",
       "      <th>14372</th>\n",
       "      <td>Latina America → Latin America</td>\n",
       "      <td>1</td>\n",
       "      <td>lex_part_choice</td>\n",
       "    </tr>\n",
       "    <tr>\n",
       "      <th>14373</th>\n",
       "      <td>every → each</td>\n",
       "      <td>0</td>\n",
       "      <td>lex_item_choice</td>\n",
       "    </tr>\n",
       "    <tr>\n",
       "      <th>14374</th>\n",
       "      <td>participants → creators</td>\n",
       "      <td>0</td>\n",
       "      <td>lex_item_choice</td>\n",
       "    </tr>\n",
       "    <tr>\n",
       "      <th>14375</th>\n",
       "      <td>want → like</td>\n",
       "      <td>0</td>\n",
       "      <td>lex_item_choice</td>\n",
       "    </tr>\n",
       "    <tr>\n",
       "      <th>14376</th>\n",
       "      <td>length → duration</td>\n",
       "      <td>0</td>\n",
       "      <td>lex_item_choice</td>\n",
       "    </tr>\n",
       "  </tbody>\n",
       "</table>\n",
       "<p>14377 rows × 3 columns</p>\n",
       "</div>"
      ],
      "text/plain": [
       "                                 text  label              tag\n",
       "0                           by → with      0  lex_item_choice\n",
       "1                  all of us → we all      0  lex_item_choice\n",
       "2                       made → accept      0  lex_item_choice\n",
       "3                   argument → reason      0  lex_item_choice\n",
       "4             attendance → admissions      0  lex_item_choice\n",
       "...                               ...    ...              ...\n",
       "14372  Latina America → Latin America      1  lex_part_choice\n",
       "14373                    every → each      0  lex_item_choice\n",
       "14374         participants → creators      0  lex_item_choice\n",
       "14375                     want → like      0  lex_item_choice\n",
       "14376               length → duration      0  lex_item_choice\n",
       "\n",
       "[14377 rows x 3 columns]"
      ]
     },
     "execution_count": 79,
     "metadata": {},
     "output_type": "execute_result"
    }
   ],
   "source": [
    "data"
   ]
  },
  {
   "cell_type": "code",
   "execution_count": 46,
   "id": "efaea60f",
   "metadata": {},
   "outputs": [
    {
     "data": {
      "text/plain": [
       "([[{'label': 'lex_item_choice', 'score': 0.9973666071891785},\n",
       "   {'label': 'lex_part_choice', 'score': 0.0026334505528211594}]],\n",
       " [[{'label': 'lex_part_choice', 'score': 0.9907699227333069},\n",
       "   {'label': 'lex_item_choice', 'score': 0.00923010054975748}]])"
      ]
     },
     "execution_count": 46,
     "metadata": {},
     "output_type": "execute_result"
    }
   ],
   "source": [
    "prediction('made → accept'), prediction('Latina America → Latin America')"
   ]
  },
  {
   "cell_type": "code",
   "execution_count": 80,
   "id": "4bc9c5ed",
   "metadata": {},
   "outputs": [
    {
     "data": {
      "application/vnd.jupyter.widget-view+json": {
       "model_id": "",
       "version_major": 2,
       "version_minor": 0
      },
      "text/plain": [
       "Stringifying the column:   0%|          | 0/14377 [00:00<?, ? examples/s]"
      ]
     },
     "metadata": {},
     "output_type": "display_data"
    },
    {
     "data": {
      "application/vnd.jupyter.widget-view+json": {
       "model_id": "",
       "version_major": 2,
       "version_minor": 0
      },
      "text/plain": [
       "Casting to class labels:   0%|          | 0/14377 [00:00<?, ? examples/s]"
      ]
     },
     "metadata": {},
     "output_type": "display_data"
    },
    {
     "data": {
      "text/plain": [
       "(11501, 2876)"
      ]
     },
     "execution_count": 80,
     "metadata": {},
     "output_type": "execute_result"
    }
   ],
   "source": [
    "data = pd.DataFrame(train, columns=['text', 'label'])\n",
    "data['tag'] = data.apply(lambda x: id2label[x['label']], axis=1)\n",
    "dataset = Dataset.from_pandas(data[['text', 'label', 'tag']]).class_encode_column('label')\n",
    "dataset = dataset.train_test_split(test_size=0.2, seed=42)\n",
    "len(dataset['train']), len(dataset['test'])\n",
    "df = dataset['test'].to_pandas()\n",
    "# df"
   ]
  },
  {
   "cell_type": "code",
   "execution_count": 32,
   "id": "36bfd04c",
   "metadata": {},
   "outputs": [
    {
     "name": "stdout",
     "output_type": "stream",
     "text": [
      "lex_item_choice 2421\n",
      "lex_part_choice 455\n"
     ]
    }
   ],
   "source": [
    "errors = dict()\n",
    "\n",
    "for i in id2label.keys():\n",
    "    print(id2label[i], end=' ')\n",
    "    sents = df.loc[df['tag'] == id2label[i]]['text'].tolist()\n",
    "    print(len(sents))\n",
    "    errors[id2label[i]] = sents"
   ]
  },
  {
   "cell_type": "code",
   "execution_count": 33,
   "id": "3298218e",
   "metadata": {},
   "outputs": [
    {
     "data": {
      "application/vnd.jupyter.widget-view+json": {
       "model_id": "cc1f959696354c3fa7c3dd070d63cd65",
       "version_major": 2,
       "version_minor": 0
      },
      "text/plain": [
       "  0%|          | 0/2 [00:00<?, ?it/s]"
      ]
     },
     "metadata": {},
     "output_type": "display_data"
    },
    {
     "data": {
      "application/vnd.jupyter.widget-view+json": {
       "model_id": "d15a7a28d4b44b568221a4edcf573719",
       "version_major": 2,
       "version_minor": 0
      },
      "text/plain": [
       "  0%|          | 0/2421 [00:00<?, ?it/s]"
      ]
     },
     "metadata": {},
     "output_type": "display_data"
    },
    {
     "name": "stdout",
     "output_type": "stream",
     "text": [
      "identified correctly in lex_item_choice: 2304/2368, 97.2972972972973%, uncertain 53, total 2421\n"
     ]
    },
    {
     "data": {
      "application/vnd.jupyter.widget-view+json": {
       "model_id": "680653234e7948e8bc9ea24b649dfd28",
       "version_major": 2,
       "version_minor": 0
      },
      "text/plain": [
       "  0%|          | 0/455 [00:00<?, ?it/s]"
      ]
     },
     "metadata": {},
     "output_type": "display_data"
    },
    {
     "name": "stdout",
     "output_type": "stream",
     "text": [
      "identified correctly in lex_part_choice: 356/429, 82.98368298368298%, uncertain 26, total 455\n",
      "in total: 2660 / 0.9248956884561892 correct, 137 / 0.0476356050069541 wrong, 79 / 0.027468706536856746 uncertain\n"
     ]
    }
   ],
   "source": [
    "examples = []\n",
    "corr, wrong, uncertain = 0, 0, 0\n",
    "\n",
    "for error, sents in tqdm(errors.items()):\n",
    "    class_wrong, class_corr, class_uncertain = 0, 0, 0\n",
    "    for sent in tqdm(sents):\n",
    "        pr = prediction(sent)[0]\n",
    "        examples.append((sent, error, pr['label'], pr['score']))\n",
    "        if pr['score'] > 0.85:\n",
    "            if pr['label'] == error:\n",
    "                class_corr += 1\n",
    "            else:\n",
    "                class_wrong += 1\n",
    "        else:\n",
    "            class_uncertain += 1\n",
    "            \n",
    "            \n",
    "    corr += class_corr\n",
    "    uncertain += class_uncertain\n",
    "    wrong += class_wrong\n",
    "        \n",
    "    print(f'identified correctly in {error}: {class_corr}/{class_corr+class_wrong}, {class_corr/(max(class_corr+class_wrong, 1))*100}%, uncertain {class_uncertain}, total {class_corr+class_wrong+class_uncertain}')\n",
    "    \n",
    "print(f'in total: {corr} / {corr/(corr+wrong+uncertain)} correct, {wrong} / {wrong/(corr+wrong+uncertain)} wrong, {uncertain} / {uncertain/(corr+wrong+uncertain)} uncertain')"
   ]
  },
  {
   "cell_type": "code",
   "execution_count": 34,
   "id": "44f4b271",
   "metadata": {},
   "outputs": [
    {
     "data": {
      "text/html": [
       "<div>\n",
       "<style scoped>\n",
       "    .dataframe tbody tr th:only-of-type {\n",
       "        vertical-align: middle;\n",
       "    }\n",
       "\n",
       "    .dataframe tbody tr th {\n",
       "        vertical-align: top;\n",
       "    }\n",
       "\n",
       "    .dataframe thead th {\n",
       "        text-align: right;\n",
       "    }\n",
       "</style>\n",
       "<table border=\"1\" class=\"dataframe\">\n",
       "  <thead>\n",
       "    <tr style=\"text-align: right;\">\n",
       "      <th></th>\n",
       "      <th>error</th>\n",
       "      <th>target</th>\n",
       "      <th>pred</th>\n",
       "      <th>score</th>\n",
       "    </tr>\n",
       "  </thead>\n",
       "  <tbody>\n",
       "    <tr>\n",
       "      <th>0</th>\n",
       "      <td>improved → increased</td>\n",
       "      <td>lex_item_choice</td>\n",
       "      <td>lex_item_choice</td>\n",
       "      <td>0.998353</td>\n",
       "    </tr>\n",
       "    <tr>\n",
       "      <th>1</th>\n",
       "      <td>cities → countries</td>\n",
       "      <td>lex_item_choice</td>\n",
       "      <td>lex_item_choice</td>\n",
       "      <td>0.997929</td>\n",
       "    </tr>\n",
       "    <tr>\n",
       "      <th>2</th>\n",
       "      <td>have → saw</td>\n",
       "      <td>lex_item_choice</td>\n",
       "      <td>lex_item_choice</td>\n",
       "      <td>0.997585</td>\n",
       "    </tr>\n",
       "    <tr>\n",
       "      <th>3</th>\n",
       "      <td>was → existed</td>\n",
       "      <td>lex_item_choice</td>\n",
       "      <td>lex_item_choice</td>\n",
       "      <td>0.998119</td>\n",
       "    </tr>\n",
       "    <tr>\n",
       "      <th>4</th>\n",
       "      <td>weather → wealth</td>\n",
       "      <td>lex_item_choice</td>\n",
       "      <td>lex_item_choice</td>\n",
       "      <td>0.997860</td>\n",
       "    </tr>\n",
       "  </tbody>\n",
       "</table>\n",
       "</div>"
      ],
      "text/plain": [
       "                  error           target             pred     score\n",
       "0  improved → increased  lex_item_choice  lex_item_choice  0.998353\n",
       "1    cities → countries  lex_item_choice  lex_item_choice  0.997929\n",
       "2            have → saw  lex_item_choice  lex_item_choice  0.997585\n",
       "3         was → existed  lex_item_choice  lex_item_choice  0.998119\n",
       "4      weather → wealth  lex_item_choice  lex_item_choice  0.997860"
      ]
     },
     "execution_count": 34,
     "metadata": {},
     "output_type": "execute_result"
    }
   ],
   "source": [
    "df = pd.DataFrame(examples, columns=['error', 'target', 'pred', 'score'])\n",
    "df.head()"
   ]
  },
  {
   "cell_type": "code",
   "execution_count": 35,
   "id": "2fafd144",
   "metadata": {},
   "outputs": [
    {
     "data": {
      "text/html": [
       "<div>\n",
       "<style scoped>\n",
       "    .dataframe tbody tr th:only-of-type {\n",
       "        vertical-align: middle;\n",
       "    }\n",
       "\n",
       "    .dataframe tbody tr th {\n",
       "        vertical-align: top;\n",
       "    }\n",
       "\n",
       "    .dataframe thead tr th {\n",
       "        text-align: left;\n",
       "    }\n",
       "\n",
       "    .dataframe thead tr:last-of-type th {\n",
       "        text-align: right;\n",
       "    }\n",
       "</style>\n",
       "<table border=\"1\" class=\"dataframe\">\n",
       "  <thead>\n",
       "    <tr>\n",
       "      <th></th>\n",
       "      <th></th>\n",
       "      <th>error</th>\n",
       "      <th colspan=\"3\" halign=\"left\">score</th>\n",
       "    </tr>\n",
       "    <tr>\n",
       "      <th></th>\n",
       "      <th></th>\n",
       "      <th>count</th>\n",
       "      <th>mean</th>\n",
       "      <th>median</th>\n",
       "      <th>var</th>\n",
       "    </tr>\n",
       "    <tr>\n",
       "      <th>target</th>\n",
       "      <th>pred</th>\n",
       "      <th></th>\n",
       "      <th></th>\n",
       "      <th></th>\n",
       "      <th></th>\n",
       "    </tr>\n",
       "  </thead>\n",
       "  <tbody>\n",
       "    <tr>\n",
       "      <th rowspan=\"2\" valign=\"top\">lex_item_choice</th>\n",
       "      <th>lex_item_choice</th>\n",
       "      <td>2335</td>\n",
       "      <td>0.990947</td>\n",
       "      <td>0.997536</td>\n",
       "      <td>0.001169</td>\n",
       "    </tr>\n",
       "    <tr>\n",
       "      <th>lex_part_choice</th>\n",
       "      <td>86</td>\n",
       "      <td>0.892374</td>\n",
       "      <td>0.960365</td>\n",
       "      <td>0.017904</td>\n",
       "    </tr>\n",
       "    <tr>\n",
       "      <th rowspan=\"2\" valign=\"top\">lex_part_choice</th>\n",
       "      <th>lex_item_choice</th>\n",
       "      <td>82</td>\n",
       "      <td>0.948639</td>\n",
       "      <td>0.987063</td>\n",
       "      <td>0.005815</td>\n",
       "    </tr>\n",
       "    <tr>\n",
       "      <th>lex_part_choice</th>\n",
       "      <td>373</td>\n",
       "      <td>0.975044</td>\n",
       "      <td>0.993696</td>\n",
       "      <td>0.003634</td>\n",
       "    </tr>\n",
       "  </tbody>\n",
       "</table>\n",
       "</div>"
      ],
      "text/plain": [
       "                                error     score                    \n",
       "                                count      mean    median       var\n",
       "target          pred                                               \n",
       "lex_item_choice lex_item_choice  2335  0.990947  0.997536  0.001169\n",
       "                lex_part_choice    86  0.892374  0.960365  0.017904\n",
       "lex_part_choice lex_item_choice    82  0.948639  0.987063  0.005815\n",
       "                lex_part_choice   373  0.975044  0.993696  0.003634"
      ]
     },
     "execution_count": 35,
     "metadata": {},
     "output_type": "execute_result"
    }
   ],
   "source": [
    "df.groupby(['target', 'pred']).agg({'error':'count', 'score':['mean', 'median', 'var']})"
   ]
  },
  {
   "cell_type": "code",
   "execution_count": 36,
   "id": "57473359",
   "metadata": {},
   "outputs": [],
   "source": [
    "df.to_excel('errors_lexical_pred.xlsx')"
   ]
  },
  {
   "cell_type": "code",
   "execution_count": 24,
   "id": "60035325",
   "metadata": {},
   "outputs": [],
   "source": [
    "df = pd.read_excel('errors_lexical_pred.xlsx')"
   ]
  },
  {
   "cell_type": "code",
   "execution_count": 11,
   "id": "c61616f4",
   "metadata": {},
   "outputs": [
    {
     "data": {
      "text/html": [
       "<div>\n",
       "<style scoped>\n",
       "    .dataframe tbody tr th:only-of-type {\n",
       "        vertical-align: middle;\n",
       "    }\n",
       "\n",
       "    .dataframe tbody tr th {\n",
       "        vertical-align: top;\n",
       "    }\n",
       "\n",
       "    .dataframe thead tr th {\n",
       "        text-align: left;\n",
       "    }\n",
       "\n",
       "    .dataframe thead tr:last-of-type th {\n",
       "        text-align: right;\n",
       "    }\n",
       "</style>\n",
       "<table border=\"1\" class=\"dataframe\">\n",
       "  <thead>\n",
       "    <tr>\n",
       "      <th></th>\n",
       "      <th></th>\n",
       "      <th>error</th>\n",
       "      <th colspan=\"3\" halign=\"left\">score</th>\n",
       "    </tr>\n",
       "    <tr>\n",
       "      <th></th>\n",
       "      <th></th>\n",
       "      <th>count</th>\n",
       "      <th>mean</th>\n",
       "      <th>median</th>\n",
       "      <th>var</th>\n",
       "    </tr>\n",
       "    <tr>\n",
       "      <th>target</th>\n",
       "      <th>pred</th>\n",
       "      <th></th>\n",
       "      <th></th>\n",
       "      <th></th>\n",
       "      <th></th>\n",
       "    </tr>\n",
       "  </thead>\n",
       "  <tbody>\n",
       "    <tr>\n",
       "      <th rowspan=\"2\" valign=\"top\">lex_item_choice</th>\n",
       "      <th>lex_item_choice</th>\n",
       "      <td>2335</td>\n",
       "      <td>0.990947</td>\n",
       "      <td>0.997536</td>\n",
       "      <td>0.001169</td>\n",
       "    </tr>\n",
       "    <tr>\n",
       "      <th>lex_part_choice</th>\n",
       "      <td>86</td>\n",
       "      <td>0.892374</td>\n",
       "      <td>0.960365</td>\n",
       "      <td>0.017904</td>\n",
       "    </tr>\n",
       "    <tr>\n",
       "      <th rowspan=\"2\" valign=\"top\">lex_part_choice</th>\n",
       "      <th>lex_item_choice</th>\n",
       "      <td>82</td>\n",
       "      <td>0.948639</td>\n",
       "      <td>0.987063</td>\n",
       "      <td>0.005815</td>\n",
       "    </tr>\n",
       "    <tr>\n",
       "      <th>lex_part_choice</th>\n",
       "      <td>373</td>\n",
       "      <td>0.975044</td>\n",
       "      <td>0.993696</td>\n",
       "      <td>0.003634</td>\n",
       "    </tr>\n",
       "  </tbody>\n",
       "</table>\n",
       "</div>"
      ],
      "text/plain": [
       "                                error     score                    \n",
       "                                count      mean    median       var\n",
       "target          pred                                               \n",
       "lex_item_choice lex_item_choice  2335  0.990947  0.997536  0.001169\n",
       "                lex_part_choice    86  0.892374  0.960365  0.017904\n",
       "lex_part_choice lex_item_choice    82  0.948639  0.987063  0.005815\n",
       "                lex_part_choice   373  0.975044  0.993696  0.003634"
      ]
     },
     "execution_count": 11,
     "metadata": {},
     "output_type": "execute_result"
    }
   ],
   "source": [
    "df.groupby(['target', 'pred']).agg({'error':'count', 'score':['mean', 'median', 'var']})"
   ]
  },
  {
   "cell_type": "code",
   "execution_count": 40,
   "id": "1fc294a5",
   "metadata": {},
   "outputs": [
    {
     "data": {
      "text/html": [
       "<div>\n",
       "<style scoped>\n",
       "    .dataframe tbody tr th:only-of-type {\n",
       "        vertical-align: middle;\n",
       "    }\n",
       "\n",
       "    .dataframe tbody tr th {\n",
       "        vertical-align: top;\n",
       "    }\n",
       "\n",
       "    .dataframe thead th {\n",
       "        text-align: right;\n",
       "    }\n",
       "</style>\n",
       "<table border=\"1\" class=\"dataframe\">\n",
       "  <thead>\n",
       "    <tr style=\"text-align: right;\">\n",
       "      <th></th>\n",
       "      <th>class</th>\n",
       "      <th>precision</th>\n",
       "      <th>recall</th>\n",
       "      <th>F1</th>\n",
       "      <th>F0.5</th>\n",
       "      <th>mean score</th>\n",
       "    </tr>\n",
       "  </thead>\n",
       "  <tbody>\n",
       "    <tr>\n",
       "      <th>0</th>\n",
       "      <td>lex_part_choice</td>\n",
       "      <td>0.812636</td>\n",
       "      <td>0.819780</td>\n",
       "      <td>0.816193</td>\n",
       "      <td>0.814055</td>\n",
       "      <td>0.970285</td>\n",
       "    </tr>\n",
       "    <tr>\n",
       "      <th>1</th>\n",
       "      <td>lex_item_choice</td>\n",
       "      <td>0.966074</td>\n",
       "      <td>0.964477</td>\n",
       "      <td>0.965275</td>\n",
       "      <td>0.965754</td>\n",
       "      <td>0.987446</td>\n",
       "    </tr>\n",
       "  </tbody>\n",
       "</table>\n",
       "</div>"
      ],
      "text/plain": [
       "             class  precision    recall        F1      F0.5  mean score\n",
       "0  lex_part_choice   0.812636  0.819780  0.816193  0.814055    0.970285\n",
       "1  lex_item_choice   0.966074  0.964477  0.965275  0.965754    0.987446"
      ]
     },
     "execution_count": 40,
     "metadata": {},
     "output_type": "execute_result"
    }
   ],
   "source": [
    "classes = set(df['target'].tolist())\n",
    "\n",
    "pr, rec, f1, f05, means = [], [], [], [], []\n",
    "for cl in classes:\n",
    "        m1, m2, m3, m4, mean_score = prec_rec_f1(cl)\n",
    "        pr.append(m1)\n",
    "        rec.append(m2)\n",
    "        f1.append(m3)\n",
    "        f05.append(m4)\n",
    "        means.append(mean_score)\n",
    "    \n",
    "metrics = pd.DataFrame(data = list(zip(classes, pr, rec, f1, f05, means)), columns=['class', 'precision', 'recall', 'F1', 'F0.5', 'mean score'])\n",
    "metrics"
   ]
  },
  {
   "cell_type": "code",
   "execution_count": 72,
   "id": "2ff05553",
   "metadata": {},
   "outputs": [
    {
     "data": {
      "text/plain": [
       "Counter({'lex_item_choice': 2421, 'lex_part_choice': 455})"
      ]
     },
     "execution_count": 72,
     "metadata": {},
     "output_type": "execute_result"
    }
   ],
   "source": [
    "from collections import Counter\n",
    "Counter(df['target'].tolist())"
   ]
  },
  {
   "cell_type": "code",
   "execution_count": 51,
   "id": "fd95bfa8",
   "metadata": {},
   "outputs": [
    {
     "name": "stdout",
     "output_type": "stream",
     "text": [
      "weighted F0.5 0.9417543243320324\n",
      "micro F0.5 0.9415855354659248\n",
      "macro F0.5 0.8899044945246226\n"
     ]
    }
   ],
   "source": [
    "from sklearn.metrics import fbeta_score\n",
    "\n",
    "for mode in ['weighted', 'micro', 'macro']:\n",
    "    print(f'{mode} F0.5', \n",
    "          fbeta_score(df['target'],\n",
    "                      df['pred'], \n",
    "                      beta=0.5, \n",
    "                      average=mode))"
   ]
  },
  {
   "cell_type": "code",
   "execution_count": 27,
   "id": "be4f2ff1",
   "metadata": {},
   "outputs": [
    {
     "data": {
      "image/png": "[encoded data removed]",
      "text/plain": [
       "<Figure size 1440x1080 with 2 Axes>"
      ]
     },
     "metadata": {
      "needs_background": "light"
     },
     "output_type": "display_data"
    }
   ],
   "source": [
    "tags = ['lex_item_choice', 'lex_part_choice']\n",
    "fig, ax = plt.subplots(len(tags), figsize=(20,15))\n",
    "for n, tag in enumerate(tags):\n",
    "    sub = df.groupby(['target'])\n",
    "    labels = sorted(set(sub.get_group(tag)['pred'].tolist()))\n",
    "#     print(labels)\n",
    "    bp = df[df['target'] == tag].boxplot(column='score', by=['target', 'pred'], \n",
    "                                         ax=ax[n], color='r')\n",
    "    ax[n].set_title(tag)\n",
    "    ax[n].set_xticks(range(1, len(labels)+1), labels=labels)\n",
    "    ax[n].set_xlabel('')\n",
    "    \n",
    "fig.suptitle('')\n",
    "plt.show()"
   ]
  },
  {
   "cell_type": "code",
   "execution_count": null,
   "id": "8655e50c",
   "metadata": {},
   "outputs": [],
   "source": []
  }
 ],
 "metadata": {
  "kernelspec": {
   "display_name": "Python 3 (ipykernel)",
   "language": "python",
   "name": "python3"
  },
  "language_info": {
   "codemirror_mode": {
    "name": "ipython",
    "version": 3
   },
   "file_extension": ".py",
   "mimetype": "text/x-python",
   "name": "python",
   "nbconvert_exporter": "python",
   "pygments_lexer": "ipython3",
   "version": "3.8.10"
  }
 },
 "nbformat": 4,
 "nbformat_minor": 5
}
