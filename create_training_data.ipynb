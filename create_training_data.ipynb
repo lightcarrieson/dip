{
 "cells": [
  {
   "cell_type": "markdown",
   "id": "b4446f4b",
   "metadata": {},
   "source": [
    "This file is used to create training data from raw corpus data."
   ]
  },
  {
   "cell_type": "code",
   "execution_count": 2,
   "id": "6f59d370",
   "metadata": {},
   "outputs": [],
   "source": [
    "import re\n",
    "import os\n",
    "from tqdm.auto import tqdm\n",
    "from nltk.tokenize import sent_tokenize"
   ]
  },
  {
   "cell_type": "code",
   "execution_count": 23,
   "id": "d94234a6",
   "metadata": {},
   "outputs": [
    {
     "data": {
      "text/plain": [
       "(46,\n",
       " {'Absence_comp_sent',\n",
       "  'Absence_explanation',\n",
       "  'Adj_as_collective',\n",
       "  'Adverbs',\n",
       "  'Agreement_errors',\n",
       "  'Articles',\n",
       "  'Capitalisation',\n",
       "  'Category_confusion',\n",
       "  'Coherence',\n",
       "  'Comparative_constr',\n",
       "  'Comparison_degree',\n",
       "  'Compound_word',\n",
       "  'Confusion_of_structures',\n",
       "  'Conjunctions',\n",
       "  'Countable_uncountable',\n",
       "  'Determiners',\n",
       "  'Formational_affixes',\n",
       "  'Inappropriate_register',\n",
       "  'Infinitive_constr',\n",
       "  'Lack_par_constr',\n",
       "  'Linking_device',\n",
       "  'Modals',\n",
       "  'Negation',\n",
       "  'Noun_inf',\n",
       "  'Noun_number',\n",
       "  'Numerals',\n",
       "  'Participial_constr',\n",
       "  'Possessive',\n",
       "  'Prepositional_adjective',\n",
       "  'Prepositional_adv',\n",
       "  'Prepositional_noun',\n",
       "  'Prepositions',\n",
       "  'Pronouns',\n",
       "  'Punctuation',\n",
       "  'Quantifiers',\n",
       "  'Redundant_comp',\n",
       "  'Ref_device',\n",
       "  'Relative_clause',\n",
       "  'Spelling',\n",
       "  'Tense_choice',\n",
       "  'Tense_form',\n",
       "  'Verb_pattern',\n",
       "  'Voice',\n",
       "  'Word_order',\n",
       "  'lex_item_choice',\n",
       "  'lex_part_choice'})"
      ]
     },
     "execution_count": 23,
     "metadata": {},
     "output_type": "execute_result"
    }
   ],
   "source": [
    "corpus_tags = set(open('corpus_tags.txt', encoding='utf-8').read().split('\\n'))\n",
    "len(corpus_tags), corpus_tags"
   ]
  },
  {
   "cell_type": "code",
   "execution_count": 24,
   "id": "175b96f4",
   "metadata": {},
   "outputs": [],
   "source": [
    "def get_errors_from_ann(ann_file):\n",
    "    '''Retrieves errors from .ann file'''\n",
    "    \n",
    "    annotations = open(ann_file, 'r', encoding='utf-8').readlines()\n",
    "    errors = []\n",
    "    for n, ann in enumerate(annotations):\n",
    "        \n",
    "        if ann[0] == '#' and 'lemma =' not in ann:\n",
    "            error_id = ann.split('\\t')[1].split()[1]\n",
    "            error_line = next((i for i in annotations if i.startswith(error_id)), None)\n",
    "            \n",
    "            if (error_line and\n",
    "                \n",
    "                len(error_line.strip().split('\\t')) == 3 and\n",
    "                \n",
    "                (len(ann.strip().split('\\t')) == 3 or\n",
    "                 'Delete' in ann or\n",
    "                 (len(ann.strip().split('\\t')) == 2 and\n",
    "                  ann.strip().split('\\t')[1].startswith('AnnotatorNotes')))):\n",
    "                \n",
    "                errors.append((error_line.strip().split('\\t'), ann.strip().split('\\t')))\n",
    "            else:\n",
    "                print(ann_file, '\\n', ann.strip().split('\\t'), '\\n', error_line.strip().split('\\t'))\n",
    "    \n",
    "    return errors"
   ]
  },
  {
   "cell_type": "code",
   "execution_count": 27,
   "id": "0b0760e9",
   "metadata": {},
   "outputs": [],
   "source": [
    "def get_corrections_per_file(errors):\n",
    "    '''Crates training data from one file'''\n",
    "    \n",
    "    corrections = []\n",
    "    for error, corr in errors:\n",
    "        # Error info\n",
    "        tag = error[1].split()[0] # 'Articles' / 'vocab'\n",
    "        if tag in corpus_tags:\n",
    "            if len(corr) == 3:\n",
    "                correction = corr[2] # 'talk'\n",
    "            else:\n",
    "                # error has no correction -- the text is deleted\n",
    "                correction = \"_\"\n",
    "\n",
    "            corrections.append((f\"{error[2]} → {correction}\", tag))\n",
    "    \n",
    "    return corrections"
   ]
  },
  {
   "cell_type": "code",
   "execution_count": 28,
   "id": "3cd8c465",
   "metadata": {},
   "outputs": [],
   "source": [
    "def sentences_for_training(path_to_training_files):\n",
    "    '''Creates sentences for training the model'''\n",
    "    \n",
    "    files = set(os.listdir(path_to_training_files))    \n",
    "    sentences = []\n",
    "    txt_files = [i for i in files if i.endswith('txt')]\n",
    "    for file in tqdm(txt_files):\n",
    "        if file[:-3]+'ann' in files:\n",
    "            \n",
    "            ann_file = f'{path_to_training_files}\\\\{file[:-3]}ann'\n",
    "            txt_file = f'{path_to_training_files}\\\\{file}'\n",
    "            \n",
    "            errors = get_errors_from_ann(ann_file)\n",
    "            \n",
    "            sentences += get_corrections_per_file(errors)\n",
    "        \n",
    "                \n",
    "    return sentences"
   ]
  },
  {
   "cell_type": "code",
   "execution_count": 3,
   "id": "e2f3db0e",
   "metadata": {},
   "outputs": [
    {
     "data": {
      "application/vnd.jupyter.widget-view+json": {
       "model_id": "d4ea0c176d5a48a1866a0080a7c47602",
       "version_major": 2,
       "version_minor": 0
      },
      "text/plain": [
       "0it [00:00, ?it/s]"
      ]
     },
     "metadata": {},
     "output_type": "display_data"
    }
   ],
   "source": [
    "paths = [paths/to/folders/with/corpus/data]\n",
    "\n",
    "training = []\n",
    "for path_to_training_files in tqdm(paths):\n",
    "    training.extend(sentences_for_training(path_to_training_files))"
   ]
  },
  {
   "cell_type": "code",
   "execution_count": 8,
   "id": "7c1a3414",
   "metadata": {},
   "outputs": [
    {
     "data": {
      "text/plain": [
       "113850"
      ]
     },
     "execution_count": 8,
     "metadata": {},
     "output_type": "execute_result"
    }
   ],
   "source": [
    "len(training)"
   ]
  },
  {
   "cell_type": "code",
   "execution_count": 10,
   "id": "1c1d300a",
   "metadata": {},
   "outputs": [
    {
     "data": {
      "text/plain": [
       "[('cigarets → cigarettes', 'Spelling'),\n",
       " ('alcohool → alcohol', 'Spelling'),\n",
       " ('alcohools → alcohols', 'Spelling'),\n",
       " ('cardio-vascular → cardiovascular', 'Spelling'),\n",
       " ('wich → which', 'Spelling'),\n",
       " ('Nowadays → Nowadays,', 'Punctuation'),\n",
       " ('On the other hand → On the other hand,', 'Punctuation'),\n",
       " ('an increase → the increase', 'Articles'),\n",
       " ('an foundation → the foundation', 'Articles'),\n",
       " ('no → not a', 'Negation'),\n",
       " ('systeme → system', 'Spelling'),\n",
       " ('stades → stadiums', 'Spelling'),\n",
       " ('o → or', 'Conjunctions'),\n",
       " (\"it's → it is\", 'Inappropriate_register'),\n",
       " ('firstly → , firstly,', 'Punctuation'),\n",
       " ('for instance → , for instance .', 'Punctuation'),\n",
       " ('population → the population', 'Articles'),\n",
       " ('Moreover → Moreover,', 'Punctuation'),\n",
       " ('tools → the tools', 'Articles'),\n",
       " ('Apart from possibilities of doing sports → Apart from possibilities of doing sports,',\n",
       "  'Punctuation')]"
      ]
     },
     "execution_count": 10,
     "metadata": {},
     "output_type": "execute_result"
    }
   ],
   "source": [
    "training[:20]"
   ]
  },
  {
   "cell_type": "code",
   "execution_count": 11,
   "id": "35e537e5",
   "metadata": {},
   "outputs": [
    {
     "data": {
      "text/plain": [
       "113850"
      ]
     },
     "execution_count": 11,
     "metadata": {},
     "output_type": "execute_result"
    }
   ],
   "source": [
    "len(training)"
   ]
  },
  {
   "cell_type": "markdown",
   "id": "93664e31",
   "metadata": {},
   "source": [
    "Filter out tags with too few instances in the corpus."
   ]
  },
  {
   "cell_type": "code",
   "execution_count": 13,
   "id": "75c9f178",
   "metadata": {},
   "outputs": [],
   "source": [
    "from collections import Counter\n",
    "tags = Counter(i[1] for i in training)"
   ]
  },
  {
   "cell_type": "code",
   "execution_count": 14,
   "id": "f6bcaebb",
   "metadata": {},
   "outputs": [
    {
     "data": {
      "text/plain": [
       "(46,\n",
       " [('Spelling', 25568),\n",
       "  ('Articles', 14470),\n",
       "  ('lex_item_choice', 12201),\n",
       "  ('Punctuation', 8537),\n",
       "  ('Tense_choice', 5981),\n",
       "  ('Prepositions', 4844),\n",
       "  ('Agreement_errors', 4334),\n",
       "  ('Noun_number', 4281),\n",
       "  ('Absence_comp_sent', 3705),\n",
       "  ('Category_confusion', 3021),\n",
       "  ('Absence_explanation', 2395),\n",
       "  ('Word_order', 2224),\n",
       "  ('lex_part_choice', 2176),\n",
       "  ('Capitalisation', 1609),\n",
       "  ('Formational_affixes', 1561),\n",
       "  ('Inappropriate_register', 1521),\n",
       "  ('Numerals', 1447),\n",
       "  ('Ref_device', 1422),\n",
       "  ('Verb_pattern', 1377),\n",
       "  ('Tense_form', 1135),\n",
       "  ('Determiners', 1089),\n",
       "  ('Voice', 946),\n",
       "  ('Relative_clause', 936),\n",
       "  ('Linking_device', 827),\n",
       "  ('Comparison_degree', 651),\n",
       "  ('Redundant_comp', 518),\n",
       "  ('Confusion_of_structures', 515),\n",
       "  ('Pronouns', 513),\n",
       "  ('Conjunctions', 472),\n",
       "  ('Possessive', 448),\n",
       "  ('Modals', 424),\n",
       "  ('Prepositional_noun', 379),\n",
       "  ('Countable_uncountable', 312),\n",
       "  ('Coherence', 289),\n",
       "  ('Infinitive_constr', 265),\n",
       "  ('Comparative_constr', 258),\n",
       "  ('Participial_constr', 258),\n",
       "  ('Compound_word', 243),\n",
       "  ('Lack_par_constr', 203),\n",
       "  ('Negation', 173),\n",
       "  ('Quantifiers', 125),\n",
       "  ('Prepositional_adjective', 91),\n",
       "  ('Adverbs', 40),\n",
       "  ('Adj_as_collective', 28),\n",
       "  ('Noun_inf', 26),\n",
       "  ('Prepositional_adv', 12)])"
      ]
     },
     "execution_count": 14,
     "metadata": {},
     "output_type": "execute_result"
    }
   ],
   "source": [
    "len(tags), tags.most_common()"
   ]
  },
  {
   "cell_type": "code",
   "execution_count": 15,
   "id": "c11bf6fe",
   "metadata": {},
   "outputs": [
    {
     "data": {
      "text/plain": [
       "['Negation',\n",
       " 'Conjunctions',\n",
       " 'Prepositional_adjective',\n",
       " 'Possessive',\n",
       " 'Compound_word',\n",
       " 'Comparative_constr',\n",
       " 'Countable_uncountable',\n",
       " 'Adverbs',\n",
       " 'Coherence',\n",
       " 'Quantifiers',\n",
       " 'Participial_constr',\n",
       " 'Infinitive_constr',\n",
       " 'Modals',\n",
       " 'Lack_par_constr',\n",
       " 'Prepositional_noun',\n",
       " 'Prepositional_adv',\n",
       " 'Noun_inf',\n",
       " 'Adj_as_collective']"
      ]
     },
     "execution_count": 15,
     "metadata": {},
     "output_type": "execute_result"
    }
   ],
   "source": [
    "least_common_tags = [tag for tag, count in tags.items() if count < 500]\n",
    "least_common_tags"
   ]
  },
  {
   "cell_type": "markdown",
   "id": "4c7e1691",
   "metadata": {},
   "source": [
    "Filter out tags already classified by other tools."
   ]
  },
  {
   "cell_type": "code",
   "execution_count": 16,
   "id": "353e4e8c",
   "metadata": {},
   "outputs": [],
   "source": [
    "finished_tags = ['Spelling', 'Articles', 'Punctuation', 'Tense_choice', 'Word_order', 'Capitalisation', 'Determiners',\n",
    "                'Pronouns', 'Conjunctions', 'Possessive', 'Noun_number']"
   ]
  },
  {
   "cell_type": "code",
   "execution_count": 17,
   "id": "c8af2959",
   "metadata": {},
   "outputs": [
    {
     "data": {
      "text/plain": [
       "[('Spelling', 25568),\n",
       " ('Articles', 14470),\n",
       " ('Punctuation', 8537),\n",
       " ('Tense_choice', 5981),\n",
       " ('Noun_number', 4281),\n",
       " ('Word_order', 2224),\n",
       " ('Capitalisation', 1609),\n",
       " ('Determiners', 1089),\n",
       " ('Pronouns', 513),\n",
       " ('Conjunctions', 472),\n",
       " ('Possessive', 448),\n",
       " ('Modals', 424),\n",
       " ('Prepositional_noun', 379),\n",
       " ('Countable_uncountable', 312),\n",
       " ('Coherence', 289),\n",
       " ('Infinitive_constr', 265),\n",
       " ('Comparative_constr', 258),\n",
       " ('Participial_constr', 258),\n",
       " ('Compound_word', 243),\n",
       " ('Lack_par_constr', 203),\n",
       " ('Negation', 173),\n",
       " ('Quantifiers', 125),\n",
       " ('Prepositional_adjective', 91),\n",
       " ('Adverbs', 40),\n",
       " ('Adj_as_collective', 28),\n",
       " ('Noun_inf', 26),\n",
       " ('Prepositional_adv', 12)]"
      ]
     },
     "execution_count": 17,
     "metadata": {},
     "output_type": "execute_result"
    }
   ],
   "source": [
    "left_out = [t for t in training if t[1] in least_common_tags+finished_tags]\n",
    "lo = Counter(i[1] for i in left_out)\n",
    "lo.most_common()"
   ]
  },
  {
   "cell_type": "code",
   "execution_count": 18,
   "id": "a0b43c76",
   "metadata": {},
   "outputs": [
    {
     "data": {
      "text/plain": [
       "45532"
      ]
     },
     "execution_count": 18,
     "metadata": {},
     "output_type": "execute_result"
    }
   ],
   "source": [
    "training = [t for t in training if t[1] not in least_common_tags+finished_tags]\n",
    "len(training)"
   ]
  },
  {
   "cell_type": "code",
   "execution_count": 19,
   "id": "a76676ab",
   "metadata": {},
   "outputs": [
    {
     "data": {
      "text/plain": [
       "[('lex_item_choice', 12201),\n",
       " ('Prepositions', 4844),\n",
       " ('Agreement_errors', 4334),\n",
       " ('Absence_comp_sent', 3705),\n",
       " ('Category_confusion', 3021),\n",
       " ('Absence_explanation', 2395),\n",
       " ('lex_part_choice', 2176),\n",
       " ('Formational_affixes', 1561),\n",
       " ('Inappropriate_register', 1521),\n",
       " ('Numerals', 1447),\n",
       " ('Ref_device', 1422),\n",
       " ('Verb_pattern', 1377),\n",
       " ('Tense_form', 1135),\n",
       " ('Voice', 946),\n",
       " ('Relative_clause', 936),\n",
       " ('Linking_device', 827),\n",
       " ('Comparison_degree', 651),\n",
       " ('Redundant_comp', 518),\n",
       " ('Confusion_of_structures', 515)]"
      ]
     },
     "execution_count": 19,
     "metadata": {},
     "output_type": "execute_result"
    }
   ],
   "source": [
    "tags = Counter(i[1] for i in training)\n",
    "tags.most_common()"
   ]
  },
  {
   "cell_type": "code",
   "execution_count": 21,
   "id": "d3759cc7",
   "metadata": {},
   "outputs": [],
   "source": [
    "import pickle\n",
    "\n",
    "pickle.dump(training, open('small_train_eo.pickle', 'wb'))"
   ]
  }
 ],
 "metadata": {
  "kernelspec": {
   "display_name": "Python 3 (ipykernel)",
   "language": "python",
   "name": "python3"
  },
  "language_info": {
   "codemirror_mode": {
    "name": "ipython",
    "version": 3
   },
   "file_extension": ".py",
   "mimetype": "text/x-python",
   "name": "python",
   "nbconvert_exporter": "python",
   "pygments_lexer": "ipython3",
   "version": "3.8.10"
  }
 },
 "nbformat": 4,
 "nbformat_minor": 5
}
